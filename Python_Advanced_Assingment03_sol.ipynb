{
 "cells": [
  {
   "cell_type": "markdown",
   "id": "379a81b2",
   "metadata": {},
   "source": [
    "# Assingment03_sol"
   ]
  },
  {
   "cell_type": "markdown",
   "id": "ffca52cd",
   "metadata": {},
   "source": [
    "1. What is the concept of an abstract superclass?\n",
    "\n",
    "## sol--> An abstract class can be considered as a blueprint for other classes. It allows you to create a set of methods that must be created within any child classes built from the abstract class. A class which contains one or more abstract methods is called an abstract class.\n",
    "\n",
    "    \n",
    "\n",
    "2. What happens when a class statement's top level contains a basic assignment statement?\n",
    "\n",
    "## sol--> So it can we class local scope variable that can we used anywhere in the class.\n",
    "\n",
    "\n",
    "\n",
    "3. Why does a class need to manually call a superclass's __init__ method?\n",
    "\n",
    "## sol--> If our subclass doesn't have an __init__ method then the superclass __init__ methods are called automatically. but If our subclass has an __init__ method then the superclass __init__ methods are not called automatically we need to call it manually, and the main reason for always calling base class __init__ is that base class may typically create member variable and initialize them to defaults.\n",
    "\n",
    "\n",
    "4. How can you augment, instead of completely replacing, an inherited method?\n",
    "\n",
    "## sol--> An inherited method is augmented simply by creating a new definition for the method in your class definition.\n",
    "\n",
    "\n",
    "\n",
    "5. How is the local scope of a class different from that of a function?\n",
    "\n",
    "## sol--> Declaring a variable in a class outside of a function  all class functions can access it basically its like a public variable but when we declare a variable inside a function inside a class then only that function can access it."
   ]
  },
  {
   "cell_type": "code",
   "execution_count": null,
   "id": "81b9c821",
   "metadata": {},
   "outputs": [],
   "source": []
  }
 ],
 "metadata": {
  "kernelspec": {
   "display_name": "Python 3 (ipykernel)",
   "language": "python",
   "name": "python3"
  },
  "language_info": {
   "codemirror_mode": {
    "name": "ipython",
    "version": 3
   },
   "file_extension": ".py",
   "mimetype": "text/x-python",
   "name": "python",
   "nbconvert_exporter": "python",
   "pygments_lexer": "ipython3",
   "version": "3.9.7"
  }
 },
 "nbformat": 4,
 "nbformat_minor": 5
}
