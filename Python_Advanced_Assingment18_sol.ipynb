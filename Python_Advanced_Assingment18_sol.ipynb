{
 "cells": [
  {
   "cell_type": "markdown",
   "id": "4d963968",
   "metadata": {},
   "source": [
    "# Assingment18_sol"
   ]
  },
  {
   "cell_type": "markdown",
   "id": "913b3219",
   "metadata": {},
   "source": [
    "Q1. Describe the differences between text and binary files in a single paragraph.\n",
    "\n",
    "### sol--> A text file consists of human readable characters which can be readble by any one and opened by any text editor. On the other hand, binary files are made up of non-human readable characters and symbols which require specific programs to access its contents.\n",
    "\n",
    "Q2. What are some scenarios where using text files will be the better option? When would you like to use binary files instead of text files?\n",
    "\n",
    "### sol--> When we want that our data will be aviable for every user in a human readble form so everyone can understand and read the data.\n",
    "###            We use binary files instead of text files when our data is confidential and we did not want that our data is available in a human readble form so anyone can read that data eaisly. \n",
    "\n",
    "Q3. What are some of the issues with using binary operations to read and write a Python integer directly to disc?\n",
    "\n",
    "### sol--> Yes we facing some issue because binary file contain data in only binary for which can we only readble by machine (0 and 1) we did not save or store integer directly in a binary file.\n",
    "\n",
    "Q4. Describe a benefit of using the with keyword instead of explicitly opening a file.\n",
    "\n",
    "### sol--> When we use a with keyword then we no need to close a file, the file will be closed automatically as soon as be leave the block.\n",
    "\n",
    "Q5. Does Python have the trailing newline while reading a line of text? Does Python append a newline when you write a line of text?\n",
    "\n",
    "### sol--> Yes It has a trailing newline (“\\n”) at the end of the string returned.The default value of the end parameter of the built-in print function is \\n , so a newline character is appended to the string.\n",
    "\n",
    "Q6. What file operations enable for random-access operation?\n",
    "\n",
    "### sol--> yes tell() method are able to do that.\n",
    "\n",
    "Q7. When do you think you'll use the struct package the most?\n",
    "\n",
    "### sol--> We use the struct module in Python when we want to convert native Python data types such as strings and numbers into a string of bytes and vice versa.\n",
    "\n",
    "Q8. When is pickling the best option?\n",
    "\n",
    "### sol--> Pickling the best option when we want to convert a python object like list, dict, etc. into a character stream.\n",
    "\n",
    "Q9. When will it be best to use the shelve package?\n",
    "\n",
    "### sol--> It's a effective tool for persistent data storage when using a relational database solution is not required. \n",
    "###            with shelve.open('temp') as db:\n",
    "###                   db['studend'] = 'student'\n",
    "\n",
    "Q10. What is a special restriction when using the shelve package, as opposed to using other data dictionaries?\n",
    "\n",
    "### sol--> nly string data type can be used as key in this special dictionary object, whereas any picklable Python object can be used as value.\n"
   ]
  },
  {
   "cell_type": "code",
   "execution_count": 20,
   "id": "ab0d5b39",
   "metadata": {},
   "outputs": [
    {
     "name": "stdout",
     "output_type": "stream",
     "text": [
      "b'\\n\\x00\\x00\\x00ineuron\\x00\\x00@\\x1cE'\n",
      "(10, b'ineuron', 2500.0)\n"
     ]
    }
   ],
   "source": [
    "#sol7\n",
    "import struct\n",
    "packed=struct.pack('i 7s f', 10, b'ineuron', 2500)\n",
    "unpacked=struct.unpack('i 7s f',packed)\n",
    "print(packed)\n",
    "print(unpacked)"
   ]
  },
  {
   "cell_type": "code",
   "execution_count": 22,
   "id": "03245546",
   "metadata": {},
   "outputs": [],
   "source": [
    "#sol 10\n",
    "import shelve\n",
    "s=shelve.open(\"student\")\n",
    "s['name']=\"aryan\"\n",
    "s['age']=19\n",
    "s['marks']=89\n",
    "s.close()"
   ]
  },
  {
   "cell_type": "code",
   "execution_count": 23,
   "id": "55c1c3d3",
   "metadata": {},
   "outputs": [
    {
     "data": {
      "text/plain": [
       "<shelve.DbfilenameShelf at 0x7f88dfac3c40>"
      ]
     },
     "execution_count": 23,
     "metadata": {},
     "output_type": "execute_result"
    }
   ],
   "source": [
    "s"
   ]
  },
  {
   "cell_type": "code",
   "execution_count": 31,
   "id": "24370b60",
   "metadata": {},
   "outputs": [
    {
     "name": "stdout",
     "output_type": "stream",
     "text": [
      "[('name', 'aryan'), ('age', 19), ('marks', 89)]\n",
      "['name', 'age', 'marks']\n",
      "['aryan', 19, 89]\n"
     ]
    }
   ],
   "source": [
    "s=shelve.open('student')\n",
    "print(list(s.items()))\n",
    "print(list(s.keys()))\n",
    "print(list(s.values()))"
   ]
  },
  {
   "cell_type": "code",
   "execution_count": 32,
   "id": "50583045",
   "metadata": {},
   "outputs": [],
   "source": [
    "s.close()"
   ]
  },
  {
   "cell_type": "code",
   "execution_count": null,
   "id": "8f9abc34",
   "metadata": {},
   "outputs": [],
   "source": []
  }
 ],
 "metadata": {
  "kernelspec": {
   "display_name": "Python 3 (ipykernel)",
   "language": "python",
   "name": "python3"
  },
  "language_info": {
   "codemirror_mode": {
    "name": "ipython",
    "version": 3
   },
   "file_extension": ".py",
   "mimetype": "text/x-python",
   "name": "python",
   "nbconvert_exporter": "python",
   "pygments_lexer": "ipython3",
   "version": "3.9.7"
  }
 },
 "nbformat": 4,
 "nbformat_minor": 5
}
