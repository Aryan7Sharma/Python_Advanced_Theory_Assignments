{
 "cells": [
  {
   "cell_type": "markdown",
   "id": "931bf60a",
   "metadata": {},
   "source": [
    "# Assingment14_sol"
   ]
  },
  {
   "cell_type": "markdown",
   "id": "4942d0a3",
   "metadata": {},
   "source": [
    "Q1. Is an assignment operator like += only for show? Is it possible that it would lead to faster results at the runtime?\n",
    "\n",
    "### sol--> yes an assignment operator like v+=1 is only for show is do the same thing as v=v+1\n",
    "\n",
    "Q2. What is the smallest number of statements you'd have to write in most programming languages to replace the Python expression a, b = a + b, a?\n",
    "\n",
    "### sol--> a+=b, b=a\n",
    "\n",
    "Q3. In Python, what is the most effective way to set a list of 100 integers to 0?\n",
    "\n",
    "### sol--> list(range(100))\n",
    "\n",
    "Q4. What is the most effective way to initialise a list of 99 integers that repeats the sequence 1, 2, 3? S If necessary, show step-by-step instructions on how to accomplish this.\n",
    "\n",
    "### sol--> l=[1,2,3]*33\n",
    "\n",
    "Q5. If you're using IDLE to run a Python application, explain how to print a multidimensional list as efficiently?\n",
    "\n",
    "### sol--> Inside a terminal window\n",
    "\n",
    "Q6. Is it possible to use list comprehension with a string? If so, how can you go about doing it?\n",
    "\n",
    "### sol--> stri=[[i,j] for i,j in enumerate(\"iNeuron\")]\n",
    "###            stri\n",
    "\n",
    "Q7. From the command line, how do you get support with a user-written Python programme? Is this possible from inside IDLE?\n",
    "\n",
    "### sol--> Yes it is possible, Once a terminal window is open, if paths have been set up properly by the Python install process, you should be able to just type python. Then, you should see a response from the Python interpreter now user can excute any Python programme.\n",
    "\n",
    "Q8. Functions are said to be “first-class objects” in Python but not in most other languages, such as C++ or Java. What can you do in Python with a function (callable object) that you can't do in C or C++?\n",
    "\n",
    "### sol--> In Python, functions behave like any other object, such as an int or a list. That means that you can use functions as arguments to other functions, store functions as dictionary values, or return a function from another function.\n",
    "\n",
    "Q9. How do you distinguish between a wrapper, a wrapped feature, and a decorator?\n",
    "\n",
    "### sol--> Wrappers around the functions are also knows as decorators Python since it allows programmers to modify the behavior of function or class decorators allow us to wrap another function in order to extend the behavior of the wrapped function, without permanently modifying it..\n",
    "\n",
    "Q10. If a function is a generator function, what does it return?\n",
    "\n",
    "### sol--> An object (iterator) which we can iterate over one value at a time.\n",
    "\n",
    "Q11. What is the one improvement that must be made to a function in order for it to become a generator function in the Python language?\n",
    "\n",
    "### sol--> If a function contains at least one yield statement.\n",
    "\n",
    "Q12. Identify at least one benefit of generators.\n",
    "\n",
    "### sol-->  Because generators have a yield statement. it returns a value and it saves the state of the function. The next time the function is called, execution continues from where it left off, with the same variable values it had before yielding."
   ]
  },
  {
   "cell_type": "code",
   "execution_count": 11,
   "id": "6cfcdaab",
   "metadata": {},
   "outputs": [
    {
     "name": "stdout",
     "output_type": "stream",
     "text": [
      "[0, 1, 2, 3, 4, 5, 6, 7, 8, 9, 10, 11, 12, 13, 14, 15, 16, 17, 18, 19, 20, 21, 22, 23, 24, 25, 26, 27, 28, 29, 30, 31, 32, 33, 34, 35, 36, 37, 38, 39, 40, 41, 42, 43, 44, 45, 46, 47, 48, 49, 50, 51, 52, 53, 54, 55, 56, 57, 58, 59, 60, 61, 62, 63, 64, 65, 66, 67, 68, 69, 70, 71, 72, 73, 74, 75, 76, 77, 78, 79, 80, 81, 82, 83, 84, 85, 86, 87, 88, 89, 90, 91, 92, 93, 94, 95, 96, 97, 98, 99]\n"
     ]
    }
   ],
   "source": [
    "#sol3\n",
    "print(list(range(100)))"
   ]
  },
  {
   "cell_type": "code",
   "execution_count": 15,
   "id": "2ad75066",
   "metadata": {},
   "outputs": [
    {
     "name": "stdout",
     "output_type": "stream",
     "text": [
      "[1, 2, 3, 1, 2, 3, 1, 2, 3, 1, 2, 3, 1, 2, 3, 1, 2, 3, 1, 2, 3, 1, 2, 3, 1, 2, 3, 1, 2, 3, 1, 2, 3, 1, 2, 3, 1, 2, 3, 1, 2, 3, 1, 2, 3, 1, 2, 3, 1, 2, 3, 1, 2, 3, 1, 2, 3, 1, 2, 3, 1, 2, 3, 1, 2, 3, 1, 2, 3, 1, 2, 3, 1, 2, 3, 1, 2, 3, 1, 2, 3, 1, 2, 3, 1, 2, 3, 1, 2, 3, 1, 2, 3, 1, 2, 3, 1, 2, 3]\n",
      "99\n"
     ]
    }
   ],
   "source": [
    "#sol4\n",
    "print([1,2,3]*33)\n",
    "print(len([1,2,3]*33))"
   ]
  },
  {
   "cell_type": "code",
   "execution_count": 9,
   "id": "194cc54b",
   "metadata": {},
   "outputs": [
    {
     "data": {
      "text/plain": [
       "[[0, 'i'], [1, 'N'], [2, 'e'], [3, 'u'], [4, 'r'], [5, 'o'], [6, 'n']]"
      ]
     },
     "execution_count": 9,
     "metadata": {},
     "output_type": "execute_result"
    }
   ],
   "source": [
    "#sol6\n",
    "stri=[[i,j] for i,j in enumerate(\"iNeuron\")]\n",
    "stri"
   ]
  },
  {
   "cell_type": "code",
   "execution_count": null,
   "id": "9e8f84ac",
   "metadata": {},
   "outputs": [],
   "source": []
  }
 ],
 "metadata": {
  "kernelspec": {
   "display_name": "Python 3 (ipykernel)",
   "language": "python",
   "name": "python3"
  },
  "language_info": {
   "codemirror_mode": {
    "name": "ipython",
    "version": 3
   },
   "file_extension": ".py",
   "mimetype": "text/x-python",
   "name": "python",
   "nbconvert_exporter": "python",
   "pygments_lexer": "ipython3",
   "version": "3.9.7"
  }
 },
 "nbformat": 4,
 "nbformat_minor": 5
}
