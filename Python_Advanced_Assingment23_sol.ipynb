{
 "cells": [
  {
   "cell_type": "markdown",
   "id": "185a42ba",
   "metadata": {},
   "source": [
    "# Assingment23_sol"
   ]
  },
  {
   "cell_type": "markdown",
   "id": "a0d030a6",
   "metadata": {},
   "source": [
    "Q1. If you have any, what are your choices for increasing the comparison between different figures on the same graph?\n",
    "\n",
    "### sol--> Histogram\n",
    "\n",
    "Q2. Can you explain the benefit of compound interest over a higher rate of interest that does not compound after reading this chapter?\n",
    "\n",
    "### sol--> Because in addition to earning returns on the money you invest, you also earn returns on those returns at the end of every compounding period, which could be daily, monthly, quarterly or annually.\n",
    "\n",
    "Q3. What is a histogram, exactly? Name a numpy method for creating such a graph.\n",
    "\n",
    "### sol-->In a Simple words a histogram is a display of statistical information that uses rectangles to show the frequency of data items in successive numerical intervals of equal size.\n",
    "\n",
    "###           When we want to plot a histogram with the help of the numpy method then we use a (numpy. histogram()) method.\n",
    "\n",
    "Q4. If necessary, how do you change the aspect ratios between the X and Y axes?\n",
    "\n",
    "### sol--> With the help of the Axes.set_aspect() method.\n",
    "\n",
    "Q5. Compare and contrast the three types of array multiplication between two numpy arrays: dot product, outer product, and regular multiplication of two numpy arrays.\n",
    "\n",
    "### sol--> Regular multiplication of two numpy arrays means when we use a (*) operation caries out element-wise multiplication on array elements. The element at arr1[i][j] is multiplied with arr2[i][j] this happens for all elements of array.\n",
    "\n",
    "    arr1=np.array([1,2,3,4])\n",
    "    arr2=np.array([1,2,3,4])               \n",
    "    arr1*arr2                          -->     array([ 1,  4,  9, 16])\n",
    "\n",
    "\n",
    "###           When we use a dot product it carries of normal matrix multiplication. Where the condition of number of columns of first array should be equal to number of rows of second array is checked than only numpy.dot() function take place else it shows an error.\n",
    "\n",
    "    arr1=np.array([[1,2],[3,4]])\n",
    "    arr2=np.array([[1,2],[3,4]])\n",
    "    np.dot(arr1,arr2)               -->    array([[ 7, 10],\n",
    "                                                  [15, 22]])   \n",
    "    \n",
    "### outer() function compute the outer product of two vectors.\n",
    "\n",
    "    arr1=np.array([1,2,3,4])\n",
    "    arr2=np.array([1,2,3,4])\n",
    "    np.outer(arr1,arr2)             -->      array([[ 1,  2,  3,  4],\n",
    "                                                    [ 2,  4,  6,  8],\n",
    "                                                    [ 3,  6,  9, 12],\n",
    "                                                    [ 4,  8, 12, 16]])\n",
    "\n",
    "Q6. Before you buy a home, which numpy function will you use to measure your monthly mortgage payment?\n",
    "\n",
    "### sol--> We can use a .pmt(rate, nper, pv) \n",
    "    rate = The periodic monthly interest rate\n",
    "    nper = The number of payment periods monthly\n",
    "    pv = The total value of the mortgage loan\n",
    "    \n",
    "    \n",
    "    from numpy_financial import pmt\n",
    "    mortgage_payment=-1*pmt(5,30,1200000)\n",
    "    mortgage_payment\n",
    "\n",
    "Q7. Can string data be stored in numpy arrays? If so, list at least one restriction that applies to this data.\n",
    "\n",
    "### sol--> Yes we can stored string data in numpy arrays but there is one main restriction the dtype of any numpy array containing string values is the maximum length of any string present in the array. Once set, it will only be able to store new string having length not more than the maximum length at the time of the creation. \n"
   ]
  },
  {
   "cell_type": "code",
   "execution_count": null,
   "id": "19267682",
   "metadata": {},
   "outputs": [],
   "source": []
  },
  {
   "cell_type": "code",
   "execution_count": 60,
   "id": "dcb274ad",
   "metadata": {},
   "outputs": [
    {
     "data": {
      "image/png": "[encoded data removed]",
      "text/plain": [
       "<Figure size 432x288 with 1 Axes>"
      ]
     },
     "metadata": {
      "needs_background": "light"
     },
     "output_type": "display_data"
    }
   ],
   "source": [
    "#sol3\n",
    "a = np.random.randint(100, size =(50))\n",
    "plt.hist(a, bins = [0, 10, 20, 30,40, 50, 60, 70,80, 90, 100])\n",
    "plt.show()"
   ]
  },
  {
   "cell_type": "code",
   "execution_count": 54,
   "id": "a1c974c4",
   "metadata": {},
   "outputs": [
    {
     "data": {
      "image/png": "[encoded data removed]",
      "text/plain": [
       "<Figure size 432x288 with 1 Axes>"
      ]
     },
     "metadata": {
      "needs_background": "light"
     },
     "output_type": "display_data"
    }
   ],
   "source": [
    "#sol4\n",
    "from matplotlib import pyplot as plt\n",
    "plt.plot([1,5],[1,5])\n",
    "plt.xlabel(\"X_Axis\")\n",
    "plt.ylabel(\"Y_Axis\")\n",
    "plt.show()"
   ]
  },
  {
   "cell_type": "code",
   "execution_count": 51,
   "id": "4896a4e2",
   "metadata": {},
   "outputs": [
    {
     "data": {
      "image/png": "[encoded data removed]",
      "text/plain": [
       "<Figure size 432x288 with 1 Axes>"
      ]
     },
     "metadata": {
      "needs_background": "light"
     },
     "output_type": "display_data"
    }
   ],
   "source": [
    "plt.plot([1,5],[1,5])\n",
    "plt.xlabel(\"X-axis\")\n",
    "plt.ylabel(\"Y-axis\")\n",
    "axes=plt.gca()\n",
    "axes.set_aspect(3)\n",
    "plt.show()"
   ]
  },
  {
   "cell_type": "code",
   "execution_count": 30,
   "id": "0f59af2a",
   "metadata": {},
   "outputs": [
    {
     "data": {
      "text/plain": [
       "array([ 1,  4,  9, 16])"
      ]
     },
     "execution_count": 30,
     "metadata": {},
     "output_type": "execute_result"
    }
   ],
   "source": [
    "#sol5\n",
    "arr1=np.array([1,2,3,4])\n",
    "arr2=np.array([1,2,3,4])\n",
    "arr1*arr2"
   ]
  },
  {
   "cell_type": "code",
   "execution_count": 34,
   "id": "5d9c35fa",
   "metadata": {},
   "outputs": [
    {
     "data": {
      "text/plain": [
       "array([[ 1,  4],\n",
       "       [ 9, 16]])"
      ]
     },
     "execution_count": 34,
     "metadata": {},
     "output_type": "execute_result"
    }
   ],
   "source": [
    "arr1=np.array([[1,2],[3,4]])\n",
    "arr2=np.array([[1,2],[3,4]])\n",
    "arr1*arr2"
   ]
  },
  {
   "cell_type": "code",
   "execution_count": 32,
   "id": "9d26679e",
   "metadata": {},
   "outputs": [
    {
     "data": {
      "text/plain": [
       "array([[ 7, 10],\n",
       "       [15, 22]])"
      ]
     },
     "execution_count": 32,
     "metadata": {},
     "output_type": "execute_result"
    }
   ],
   "source": [
    "arr1=np.array([[1,2],[3,4]])\n",
    "arr2=np.array([[1,2],[3,4]])\n",
    "np.dot(arr1,arr2)"
   ]
  },
  {
   "cell_type": "code",
   "execution_count": 33,
   "id": "ca6b98c1",
   "metadata": {},
   "outputs": [
    {
     "data": {
      "text/plain": [
       "array([[ 1,  2,  3,  4],\n",
       "       [ 2,  4,  6,  8],\n",
       "       [ 3,  6,  9, 12],\n",
       "       [ 4,  8, 12, 16]])"
      ]
     },
     "execution_count": 33,
     "metadata": {},
     "output_type": "execute_result"
    }
   ],
   "source": [
    "arr1=np.array([1,2,3,4])\n",
    "arr2=np.array([1,2,3,4])\n",
    "np.outer(arr1,arr2)"
   ]
  },
  {
   "cell_type": "code",
   "execution_count": 29,
   "id": "0355ddf6",
   "metadata": {},
   "outputs": [
    {
     "data": {
      "text/plain": [
       "6300000.000000001"
      ]
     },
     "execution_count": 29,
     "metadata": {},
     "output_type": "execute_result"
    }
   ],
   "source": [
    "#sol6\n",
    "from numpy_financial import pmt\n",
    "mortgage_payment=-1*pmt(3.5,30,1800000)\n",
    "mortgage_payment"
   ]
  },
  {
   "cell_type": "code",
   "execution_count": 2,
   "id": "539bf170",
   "metadata": {},
   "outputs": [
    {
     "data": {
      "text/plain": [
       "array(['i', 'N', 'e', '', 'u', 'ro', 'n'], dtype='<U2')"
      ]
     },
     "execution_count": 2,
     "metadata": {},
     "output_type": "execute_result"
    }
   ],
   "source": [
    "#sol 7\n",
    "import numpy as np\n",
    "arra=np.array([\"i\",\"N\",\"e\",'',\"u\",\"ro\",\"n\"])\n",
    "arra"
   ]
  },
  {
   "cell_type": "code",
   "execution_count": 3,
   "id": "bb7fa851",
   "metadata": {},
   "outputs": [
    {
     "data": {
      "text/plain": [
       "array(['i', 'N', 'e', 'He', 'u', 'ro', 'n'], dtype='<U2')"
      ]
     },
     "execution_count": 3,
     "metadata": {},
     "output_type": "execute_result"
    }
   ],
   "source": [
    "arra[arra == ''] = 'Hello'\n",
    "arra"
   ]
  },
  {
   "cell_type": "code",
   "execution_count": 8,
   "id": "6b9bde47",
   "metadata": {},
   "outputs": [
    {
     "name": "stdout",
     "output_type": "stream",
     "text": [
      "Collecting numpy-financial\n",
      "  Downloading numpy_financial-1.0.0-py3-none-any.whl (14 kB)\n",
      "Requirement already satisfied: numpy>=1.15 in /home/aryan/anaconda3/lib/python3.9/site-packages (from numpy-financial) (1.20.3)\n",
      "Installing collected packages: numpy-financial\n",
      "Successfully installed numpy-financial-1.0.0\n"
     ]
    }
   ],
   "source": [
    "!pip install numpy-financial"
   ]
  },
  {
   "cell_type": "code",
   "execution_count": null,
   "id": "36296521",
   "metadata": {},
   "outputs": [],
   "source": []
  }
 ],
 "metadata": {
  "kernelspec": {
   "display_name": "Python 3 (ipykernel)",
   "language": "python",
   "name": "python3"
  },
  "language_info": {
   "codemirror_mode": {
    "name": "ipython",
    "version": 3
   },
   "file_extension": ".py",
   "mimetype": "text/x-python",
   "name": "python",
   "nbconvert_exporter": "python",
   "pygments_lexer": "ipython3",
   "version": "3.9.7"
  }
 },
 "nbformat": 4,
 "nbformat_minor": 5
}
