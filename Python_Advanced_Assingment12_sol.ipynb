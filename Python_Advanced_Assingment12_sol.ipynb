{
 "cells": [
  {
   "cell_type": "markdown",
   "id": "adbe49bf",
   "metadata": {},
   "source": [
    "# Assingment12_sol"
   ]
  },
  {
   "cell_type": "markdown",
   "id": "f0abbc1b",
   "metadata": {},
   "source": [
    "Q1. Does assigning a value to a string's indexed character violate Python's string immutability?\n",
    "\n",
    "### sol--> yes In Python, a string is immutable you cannot overwrite the values of immutable objects or you can not modify a value to a string's indexed character. However, you can assign the variable again.\n",
    "\n",
    "Q2. Does using the += operator to concatenate strings violate Python's string immutability? Why or why not?\n",
    "\n",
    "### sol--> No += operator does not violate Python's string immutability because we can overwrite any character in a string be append a new character.\n",
    "\n",
    "Q3. In Python, how many different ways are there to index a character?\n",
    "\n",
    "### sol--> We can access characters in a String in Two ways : Accessing Characters by Positive Index Number. Accessing Characters by Negative Index Number.\n",
    "\n",
    "Q4. What is the relationship between indexing and slicing?\n",
    "\n",
    "### sol--> Indexing is used to obtain individual elements.while Slicing is used to obtain a sequence of elements.\n",
    "\n",
    "Q5. What is an indexed character's exact data type? What is the data form of a slicing-generated substring?\n",
    "\n",
    "### sol--> In string format.\n",
    "\n",
    "Q6. What is the relationship between string and character \"types\" in Python?\n",
    "\n",
    "### sol--> In Python does not have a character data type, a single character is simply a string with a length of 1.\n",
    "\n",
    "Q7. Identify at least two operators and one method that allow you to combine one or more smaller strings to create a larger string.\n",
    "\n",
    "### sol--> The most common among them is using the plus (“+”) operator and the multipication(\"*\") operator.\n",
    "\n",
    "Q8. What is the benefit of first checking the target string with in or not in before using the index method to find a substring?\n",
    "\n",
    "### sol--> So it will not through an  --(ValueError: substring not found).\n",
    "\n",
    "Q9. Which operators and built-in string methods produce simple Boolean (true/false) results?\n",
    "\n",
    "### sol-->Comaprison Operators, and the logical operators (and, or and not) are also referred to as boolean operators. "
   ]
  },
  {
   "cell_type": "code",
   "execution_count": 11,
   "id": "b06db24a",
   "metadata": {},
   "outputs": [
    {
     "data": {
      "text/plain": [
       "True"
      ]
     },
     "execution_count": 11,
     "metadata": {},
     "output_type": "execute_result"
    }
   ],
   "source": [
    "a=\"str\"\n",
    "\"s\" in a"
   ]
  },
  {
   "cell_type": "code",
   "execution_count": 14,
   "id": "92a113d6",
   "metadata": {},
   "outputs": [
    {
     "ename": "ValueError",
     "evalue": "substring not found",
     "output_type": "error",
     "traceback": [
      "\u001b[0;31m---------------------------------------------------------------------------\u001b[0m",
      "\u001b[0;31mValueError\u001b[0m                                Traceback (most recent call last)",
      "\u001b[0;32m/tmp/ipykernel_11948/754252582.py\u001b[0m in \u001b[0;36m<module>\u001b[0;34m\u001b[0m\n\u001b[0;32m----> 1\u001b[0;31m \u001b[0ma\u001b[0m\u001b[0;34m.\u001b[0m\u001b[0mindex\u001b[0m\u001b[0;34m(\u001b[0m\u001b[0;34m\"a\"\u001b[0m\u001b[0;34m)\u001b[0m\u001b[0;34m\u001b[0m\u001b[0;34m\u001b[0m\u001b[0m\n\u001b[0m",
      "\u001b[0;31mValueError\u001b[0m: substring not found"
     ]
    }
   ],
   "source": [
    "a.index(\"a\")"
   ]
  },
  {
   "cell_type": "code",
   "execution_count": null,
   "id": "a9364502",
   "metadata": {},
   "outputs": [],
   "source": []
  }
 ],
 "metadata": {
  "kernelspec": {
   "display_name": "Python 3 (ipykernel)",
   "language": "python",
   "name": "python3"
  },
  "language_info": {
   "codemirror_mode": {
    "name": "ipython",
    "version": 3
   },
   "file_extension": ".py",
   "mimetype": "text/x-python",
   "name": "python",
   "nbconvert_exporter": "python",
   "pygments_lexer": "ipython3",
   "version": "3.9.7"
  }
 },
 "nbformat": 4,
 "nbformat_minor": 5
}
