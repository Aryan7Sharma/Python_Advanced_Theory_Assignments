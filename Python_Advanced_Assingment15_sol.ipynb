{
 "cells": [
  {
   "cell_type": "markdown",
   "id": "b38bd857",
   "metadata": {},
   "source": [
    "# Assingment15_sol"
   ]
  },
  {
   "cell_type": "markdown",
   "id": "f9e77eee",
   "metadata": {},
   "source": [
    "    1. What are the new features added in Python 3.8 version?\n",
    "    \n",
    "### sol--> In python 3.8 added many new features we can know about this on python 3.8 documentation  (https://docs.python.org/3/whatsnew/3.8.html) where we can read but one of features which i like in python 3.8 allows the use of the above-discussed assignment operator and equal sign (=) inside the f-strings.\n",
    "\n",
    "    2. What is monkey patching in Python?\n",
    "        \n",
    "### sol--> In Python the monkey patch refers to dynamic (or run-time) modifications of a class or module., we can actually change the behavior of code at run-time.\n",
    "\n",
    "    3. What is the difference between a shallow copy and deep copy?\n",
    "        \n",
    "### sol--> A Shallow copy i sjust hold a  reference address of the original data or copied data. In Deep copy, the copy of the original object and the repetitive copies both are stored.\n",
    "\n",
    "\n",
    "    4. What is the maximum possible length of an identifier?\n",
    "        \n",
    "### sol--> In Python, the highest possible length of an identifier is 79 characters.\n",
    "\n",
    "    5. What is generator comprehension?\n",
    "        \n",
    "### sol--> A generator comprehension is a single-line specification for defining a generator in Python. just like list comprehension.\n"
   ]
  },
  {
   "cell_type": "code",
   "execution_count": 4,
   "id": "6a395480",
   "metadata": {},
   "outputs": [
    {
     "name": "stdout",
     "output_type": "stream",
     "text": [
      "a + b = 15\n",
      "15\n"
     ]
    },
    {
     "data": {
      "text/plain": [
       "15"
      ]
     },
     "execution_count": 4,
     "metadata": {},
     "output_type": "execute_result"
    }
   ],
   "source": [
    "#sol1\n",
    "a = 5\n",
    "b = 10\n",
    "print(f'{a + b = }')\n",
    "print(f'{(c := a + b)}')\n",
    "c"
   ]
  },
  {
   "cell_type": "code",
   "execution_count": 26,
   "id": "e897b57d",
   "metadata": {},
   "outputs": [
    {
     "name": "stdout",
     "output_type": "stream",
     "text": [
      "func2() is being called\n"
     ]
    }
   ],
   "source": [
    "\n",
    "class A:\n",
    "     def func1(self):\n",
    "        print(\"func1() is being called\")\n",
    "        \n",
    "def func2(self):\n",
    "     print(\"func2() is being called\")\n",
    "\n",
    "A.func1 = func2\n",
    "obj = A()\n",
    "  \n",
    "obj.func1()"
   ]
  },
  {
   "cell_type": "code",
   "execution_count": 48,
   "id": "5878a719",
   "metadata": {},
   "outputs": [
    {
     "data": {
      "text/plain": [
       "[1, 2, 3, 4, 5]"
      ]
     },
     "execution_count": 48,
     "metadata": {},
     "output_type": "execute_result"
    }
   ],
   "source": [
    "#sol 3\n",
    "l=[1,2,3,4,5]\n",
    "l"
   ]
  },
  {
   "cell_type": "code",
   "execution_count": 49,
   "id": "775a6ebd",
   "metadata": {},
   "outputs": [],
   "source": [
    "#shallow copy\n",
    "l_shallowcopy=l\n",
    "l[-1]=\"iNeuron\""
   ]
  },
  {
   "cell_type": "code",
   "execution_count": 50,
   "id": "8649b5e3",
   "metadata": {},
   "outputs": [
    {
     "name": "stdout",
     "output_type": "stream",
     "text": [
      "[1, 2, 3, 4, 'iNeuron']\n",
      "[1, 2, 3, 4, 'iNeuron']\n"
     ]
    }
   ],
   "source": [
    "print(l)\n",
    "print(l_shallowcopy)"
   ]
  },
  {
   "cell_type": "code",
   "execution_count": 52,
   "id": "c951754d",
   "metadata": {},
   "outputs": [
    {
     "name": "stdout",
     "output_type": "stream",
     "text": [
      "[1, 2, 3, 4, 'iNeuron']\n",
      "[1, 2, 3, 4, 'iNeuron']\n"
     ]
    }
   ],
   "source": [
    "#deepcopy\n",
    "l_deepcopy=l.copy()\n",
    "print(l)\n",
    "print(l_deepcopy)"
   ]
  },
  {
   "cell_type": "code",
   "execution_count": 71,
   "id": "617636b8",
   "metadata": {},
   "outputs": [
    {
     "name": "stdout",
     "output_type": "stream",
     "text": [
      "[1, 2, 3, 4, 5]\n",
      "[1, 2, 3, 4, 'iNeuron']\n"
     ]
    }
   ],
   "source": [
    "l[-1]=5\n",
    "print(l)\n",
    "print(l_deepcopy)"
   ]
  },
  {
   "cell_type": "code",
   "execution_count": 77,
   "id": "558f1e2d",
   "metadata": {},
   "outputs": [
    {
     "name": "stdout",
     "output_type": "stream",
     "text": [
      "<generator object <genexpr> at 0x7efe62050740>\n",
      "<class 'generator'>\n"
     ]
    }
   ],
   "source": [
    "#sol5\n",
    "#generator comprehension\n",
    "a=(i*i for i in range(1,11))\n",
    "print(a)\n",
    "print(type(a))"
   ]
  },
  {
   "cell_type": "code",
   "execution_count": 78,
   "id": "63fb2ba3",
   "metadata": {},
   "outputs": [
    {
     "name": "stdout",
     "output_type": "stream",
     "text": [
      "1 4 9 16 25 36 49 64 81 100 "
     ]
    }
   ],
   "source": [
    "for i in a:print(i,end=\" \")"
   ]
  },
  {
   "cell_type": "code",
   "execution_count": null,
   "id": "bf1455b8",
   "metadata": {},
   "outputs": [],
   "source": []
  }
 ],
 "metadata": {
  "kernelspec": {
   "display_name": "Python 3 (ipykernel)",
   "language": "python",
   "name": "python3"
  },
  "language_info": {
   "codemirror_mode": {
    "name": "ipython",
    "version": 3
   },
   "file_extension": ".py",
   "mimetype": "text/x-python",
   "name": "python",
   "nbconvert_exporter": "python",
   "pygments_lexer": "ipython3",
   "version": "3.9.7"
  }
 },
 "nbformat": 4,
 "nbformat_minor": 5
}
