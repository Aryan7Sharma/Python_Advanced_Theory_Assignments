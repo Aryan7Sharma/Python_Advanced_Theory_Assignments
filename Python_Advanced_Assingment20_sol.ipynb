{
 "cells": [
  {
   "cell_type": "markdown",
   "id": "9b363e93",
   "metadata": {},
   "source": [
    "# Assingment20_sol"
   ]
  },
  {
   "cell_type": "markdown",
   "id": "cdf98dfb",
   "metadata": {},
   "source": [
    "1. Compare and contrast the float and Decimal classes' benefits and drawbacks.\n",
    "\n",
    "### sol--> Floating point data type represent number values with fractional parts. Decimal accurately represent any number within the precision of the decimal format, whereas Float cannot accurately represent all numbers.\n",
    "\n",
    "2. Decimal('1.200') and Decimal('1.2') are two objects to consider. In what sense are these the same object? Are these just two ways of representing the exact same value, or do they correspond to different internal states?\n",
    "\n",
    "### sol--> print(Decimal('1.200'),Decimal('1.2'))--> 1.200 1.2\n",
    "\n",
    "3. What happens if the equality of Decimal('1.200') and Decimal('1.2') is checked?\n",
    "\n",
    "### sol--> Its return True\n",
    "\n",
    "4. Why is it preferable to start a Decimal object with a string rather than a floating-point value?\n",
    "\n",
    "### sol--> Because using floats for currency will just cause errors down the road\n",
    "\n",
    "5. In an arithmetic phrase, how simple is it to combine Decimal objects with integers?\n",
    "\n",
    "### sol--> print(Decimal('1.2')+2)--> 3.2\n",
    "\n",
    "6. Can Decimal objects and floating-point values be combined easily?\n",
    "\n",
    "### sol--> \n",
    "    f=1.02\n",
    "    i=1\n",
    "    n=f+i\n",
    "    print(f\"f={f},i={i},n={n}\")\n",
    "    output--> f=1.02, i=1, n=2.02\n",
    "\n",
    "7. Using the Fraction class but not the Decimal class, give an example of a quantity that can be expressed with absolute precision.\n",
    "\n",
    "### sol--> \n",
    "    from fractions import Fraction\n",
    "    print(Fraction('1'))\n",
    "    print(Fraction('1') / Fraction('3'))\n",
    "    print(Fraction('1') / Fraction('3') * Fraction('3'))\n",
    "    \n",
    "8. Describe a quantity that can be accurately expressed by the Decimal or Fraction classes but not by a floating-point value.\n",
    "\n",
    "### sol--> The context precision does not affect how many digits are stored. That is determined exclusively by the number of digits in value.\n",
    "\n",
    "9. Consider the following two fraction objects: Fraction(1, 2) and Fraction(1, 2). (5, 10). Is the internal state of these two objects the same? Why do you think that is?\n",
    "\n",
    "### sol--> yes it is.\n",
    "\n",
    "10. How do the Fraction class and the integer type (int) relate to each other? Containment or inheritance?\n",
    "\n",
    "### sol--> Integers are whole numbers. Fractions are parts per whole item. Decimals are fractions expressed in tenths(10).\n"
   ]
  },
  {
   "cell_type": "code",
   "execution_count": 2,
   "id": "113e944f",
   "metadata": {},
   "outputs": [
    {
     "name": "stdout",
     "output_type": "stream",
     "text": [
      "0.100000000000000006\n"
     ]
    },
    {
     "data": {
      "text/plain": [
       "0.30000000000000004"
      ]
     },
     "execution_count": 2,
     "metadata": {},
     "output_type": "execute_result"
    }
   ],
   "source": [
    "#sol1\n",
    "print(f\"{0.1:.18f}\")\n",
    "0.1+0.1+0.1"
   ]
  },
  {
   "cell_type": "code",
   "execution_count": 9,
   "id": "24c97b51",
   "metadata": {},
   "outputs": [
    {
     "name": "stdout",
     "output_type": "stream",
     "text": [
      "0.100000000000000000\n"
     ]
    },
    {
     "data": {
      "text/plain": [
       "Decimal('0.3')"
      ]
     },
     "execution_count": 9,
     "metadata": {},
     "output_type": "execute_result"
    }
   ],
   "source": [
    "from decimal import Decimal\n",
    "print(f\"{Decimal('0.1'):.18f}\")\n",
    "Decimal('.1') + Decimal('.1') + Decimal('.1')"
   ]
  },
  {
   "cell_type": "code",
   "execution_count": 12,
   "id": "df334683",
   "metadata": {},
   "outputs": [
    {
     "name": "stdout",
     "output_type": "stream",
     "text": [
      "1.200 1.2\n"
     ]
    }
   ],
   "source": [
    "#sol 2\n",
    "print(Decimal('1.200'),Decimal('1.2'))"
   ]
  },
  {
   "cell_type": "code",
   "execution_count": 13,
   "id": "b8006ee9",
   "metadata": {},
   "outputs": [
    {
     "data": {
      "text/plain": [
       "True"
      ]
     },
     "execution_count": 13,
     "metadata": {},
     "output_type": "execute_result"
    }
   ],
   "source": [
    "#sol3\n",
    "Decimal('1.200') == Decimal('1.2')"
   ]
  },
  {
   "cell_type": "code",
   "execution_count": 15,
   "id": "512a20b5",
   "metadata": {},
   "outputs": [
    {
     "name": "stdout",
     "output_type": "stream",
     "text": [
      "3.200\n"
     ]
    }
   ],
   "source": [
    "#5\n",
    "print(Decimal('1.200')+2)"
   ]
  },
  {
   "cell_type": "code",
   "execution_count": 20,
   "id": "b0f2448b",
   "metadata": {},
   "outputs": [
    {
     "name": "stdout",
     "output_type": "stream",
     "text": [
      "f=1.02, i=1, n=2.02\n"
     ]
    }
   ],
   "source": [
    "#6\n",
    "f=1.02\n",
    "i=1\n",
    "n=f+i\n",
    "print(f\"f={f}, i={i}, n={n}\")"
   ]
  },
  {
   "cell_type": "code",
   "execution_count": 25,
   "id": "f575f80f",
   "metadata": {},
   "outputs": [
    {
     "name": "stdout",
     "output_type": "stream",
     "text": [
      "1\n",
      "1/3\n",
      "1\n"
     ]
    }
   ],
   "source": [
    "#7\n",
    "from fractions import Fraction\n",
    "print(Fraction('1'))\n",
    "print(Fraction('1') / Fraction('3'))\n",
    "print(Fraction('1') / Fraction('3') * Fraction('3'))"
   ]
  },
  {
   "cell_type": "code",
   "execution_count": 32,
   "id": "b83e5c6a",
   "metadata": {},
   "outputs": [
    {
     "data": {
      "text/plain": [
       "Decimal('3.10000000')"
      ]
     },
     "execution_count": 32,
     "metadata": {},
     "output_type": "execute_result"
    }
   ],
   "source": [
    "#8\n",
    "Decimal('3.10000000')"
   ]
  },
  {
   "cell_type": "code",
   "execution_count": 34,
   "id": "d8c60223",
   "metadata": {},
   "outputs": [
    {
     "data": {
      "text/plain": [
       "Decimal('5.10000000')"
      ]
     },
     "execution_count": 34,
     "metadata": {},
     "output_type": "execute_result"
    }
   ],
   "source": [
    "a=Decimal('3.10000000')\n",
    "b=2\n",
    "a+b"
   ]
  },
  {
   "cell_type": "code",
   "execution_count": 38,
   "id": "98c9dfcc",
   "metadata": {},
   "outputs": [
    {
     "data": {
      "text/plain": [
       "Decimal('4.20000000')"
      ]
     },
     "execution_count": 38,
     "metadata": {},
     "output_type": "execute_result"
    }
   ],
   "source": [
    "a+Decimal('1.1')"
   ]
  },
  {
   "cell_type": "code",
   "execution_count": 44,
   "id": "c28d8d93",
   "metadata": {},
   "outputs": [
    {
     "data": {
      "text/plain": [
       "True"
      ]
     },
     "execution_count": 44,
     "metadata": {},
     "output_type": "execute_result"
    }
   ],
   "source": [
    "#9\n",
    "Fraction(1, 2)==Fraction(1, 2)==Fraction(5, 10)"
   ]
  },
  {
   "cell_type": "code",
   "execution_count": 46,
   "id": "bd9708c9",
   "metadata": {},
   "outputs": [
    {
     "data": {
      "text/plain": [
       "Fraction(1, 4)"
      ]
     },
     "execution_count": 46,
     "metadata": {},
     "output_type": "execute_result"
    }
   ],
   "source": [
    "Fraction(1, 2)*Fraction(5, 10)"
   ]
  },
  {
   "cell_type": "code",
   "execution_count": 47,
   "id": "40381392",
   "metadata": {},
   "outputs": [
    {
     "data": {
      "text/plain": [
       "False"
      ]
     },
     "execution_count": 47,
     "metadata": {},
     "output_type": "execute_result"
    }
   ],
   "source": [
    "Fraction(1, 2)==Fraction(1, 2)*Fraction(5, 10)"
   ]
  },
  {
   "cell_type": "code",
   "execution_count": 64,
   "id": "483a8a22",
   "metadata": {},
   "outputs": [
    {
     "data": {
      "text/plain": [
       "Fraction(7, 4)"
      ]
     },
     "execution_count": 64,
     "metadata": {},
     "output_type": "execute_result"
    }
   ],
   "source": [
    "#sol 10\n",
    "Fraction(1/4) + Fraction(3/2)"
   ]
  },
  {
   "cell_type": "code",
   "execution_count": 65,
   "id": "832d7796",
   "metadata": {},
   "outputs": [],
   "source": [
    "a=Fraction(1/4) + Fraction(3/2)"
   ]
  },
  {
   "cell_type": "code",
   "execution_count": 66,
   "id": "85e493a2",
   "metadata": {},
   "outputs": [
    {
     "data": {
      "text/plain": [
       "Fraction(15, 4)"
      ]
     },
     "execution_count": 66,
     "metadata": {},
     "output_type": "execute_result"
    }
   ],
   "source": [
    "a+2 # (7/4) +(2/1)= ((7*4/4)+(2*4/1)--> 15/4\n"
   ]
  },
  {
   "cell_type": "code",
   "execution_count": null,
   "id": "72c8dce9",
   "metadata": {},
   "outputs": [],
   "source": []
  }
 ],
 "metadata": {
  "kernelspec": {
   "display_name": "Python 3 (ipykernel)",
   "language": "python",
   "name": "python3"
  },
  "language_info": {
   "codemirror_mode": {
    "name": "ipython",
    "version": 3
   },
   "file_extension": ".py",
   "mimetype": "text/x-python",
   "name": "python",
   "nbconvert_exporter": "python",
   "pygments_lexer": "ipython3",
   "version": "3.9.7"
  }
 },
 "nbformat": 4,
 "nbformat_minor": 5
}
