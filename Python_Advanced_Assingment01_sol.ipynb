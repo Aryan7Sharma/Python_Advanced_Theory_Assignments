{
 "cells": [
  {
   "cell_type": "markdown",
   "id": "379a81b2",
   "metadata": {},
   "source": [
    "# Assingment01_sol"
   ]
  },
  {
   "cell_type": "markdown",
   "id": "59a20e69",
   "metadata": {},
   "source": [
    "    Q1. What is the purpose of Python's OOP?\n",
    "    \n",
    "    sol--> With the help of the Object-Oriented Programming we divide our problem into subproblem so its to easy and efficient to solve big and complex problems and it makes the program easy to understand.and it also based on a DRY Principal(Do Not Repeat Yourself)  So the class is sharable, the code can be reused. Data is safe and secure with data abstraction.\n",
    "\n",
    "\n",
    "\n",
    "    Q2. Where does an inheritance search look for an attribute?\n",
    "    \n",
    "    sol--> Find the first occurrence of attribute by looking in object, then in all Parent classes above it, from left to right.\n",
    "\n",
    "\n",
    "\n",
    "    Q3. How do you distinguish between a class object and an instance object?\n",
    "    \n",
    "    sol--> Everything in Python is an object such as integers, lists, dictionaries, functions and so on. Instance is an object that belongs to a class. For instance,list is a class in Python. When we create a list, we have an instance of the list class.\n",
    "\n",
    "\n",
    "\n",
    "\n",
    "    \n",
    "    Q4. What makes the first argument in a class’s method function special?\n",
    "    \n",
    "    sol-->  A class object passed as its first argument. Recall that, when an instance method is called from an instance object, that instance object is automatically passed as the first argument to the method,This is the reason the first parameter of a function in class must be the object itself. but self is not a keyword and has no special meaning in Python we can pass any name of our choise.\n",
    "    \n",
    "\n",
    "\n",
    "\n",
    "    Q5. What is the purpose of the __init__ method?\n",
    "    \n",
    "    sol--> The __init__ function is called every time an object is created from a class, The __init__ method is in Python is almost same as the C++ Constructor\n",
    "\n",
    "\n",
    "\n",
    "    Q6. What is the process for creating a class instance?\n",
    "    \n",
    "    sol--> To create instances of a class, you call the class using class name and pass in whatever arguments its method accepts and use the methods and properties of that class so we dont'n need to write whole code for that for example (Print instance) which can help us to show our message to the user whereever we want.\n",
    "\n",
    "\n",
    "\n",
    "    Q7. What is the process for creating a class?\n",
    "    \n",
    "    sol--> For Creating a Class we use a (class) keyword with the ClassName and colon(:) then we write the properties inside the class.\n",
    "    \n",
    "    class Temp:\n",
    "        def __init__(self):\n",
    "            statement\n",
    "\n",
    "\n",
    "\n",
    "    Q8. How would you define the superclasses of a class?\n",
    "    \n",
    "    sol--> A superclass is the class from which many subclasses can be created and the superclass is also known as the parent class or base class.\n",
    "    \n",
    "    class Superclass:\n",
    "        pass\n",
    "    \n",
    "    class subclass1(Superclass):\n",
    "        pass\n",
    "        \n",
    "    class subclass2(Superclass):\n",
    "        pass\n",
    "        \n",
    "    class subclass3(Superclass):\n",
    "        pass"
   ]
  },
  {
   "cell_type": "code",
   "execution_count": null,
   "id": "0c66cfa0",
   "metadata": {},
   "outputs": [],
   "source": []
  }
 ],
 "metadata": {
  "kernelspec": {
   "display_name": "Python 3 (ipykernel)",
   "language": "python",
   "name": "python3"
  },
  "language_info": {
   "codemirror_mode": {
    "name": "ipython",
    "version": 3
   },
   "file_extension": ".py",
   "mimetype": "text/x-python",
   "name": "python",
   "nbconvert_exporter": "python",
   "pygments_lexer": "ipython3",
   "version": "3.9.7"
  }
 },
 "nbformat": 4,
 "nbformat_minor": 5
}
