{
 "cells": [
  {
   "cell_type": "markdown",
   "id": "99603b93",
   "metadata": {},
   "source": [
    "# Assingment07_sol"
   ]
  },
  {
   "cell_type": "markdown",
   "id": "9faa717e",
   "metadata": {},
   "source": [
    "Q1. What is the purpose of the try statement?\n",
    "\n",
    "### sol--> The try statement lets allows you to test a block of code have  errors or not, while it is being executed. The except statement allows you to define a block of code to be executed, if an error occurs in the try block.\n",
    "\n",
    "Q2. What are the two most popular try statement variations?\n",
    "\n",
    "### sol--> (try,except) (try,finally).\n",
    "\n",
    "Q3. What is the purpose of the raise statement?\n",
    "\n",
    "### sol--> We can use raise statement to raise our own exception in the program.\n",
    "\n",
    "Q4. What does the assert statement do, and what other statement is it like?\n",
    "\n",
    "### sol--> Exception handling with (try, except) block\n",
    "\n",
    "Q5. What is the purpose of the with/as argument, and what other statement is it like?\n",
    "\n",
    "### sol--> with statement in Python is used in exception handling to make the code cleaner and much more readable. It simplifies the management of common resources like file streams.\n",
    "\n",
    "\n",
    "with open('temp_file', 'w') as file:\n",
    "    file.write('iNeuron !')"
   ]
  }
 ],
 "metadata": {
  "kernelspec": {
   "display_name": "Python 3 (ipykernel)",
   "language": "python",
   "name": "python3"
  },
  "language_info": {
   "codemirror_mode": {
    "name": "ipython",
    "version": 3
   },
   "file_extension": ".py",
   "mimetype": "text/x-python",
   "name": "python",
   "nbconvert_exporter": "python",
   "pygments_lexer": "ipython3",
   "version": "3.9.7"
  }
 },
 "nbformat": 4,
 "nbformat_minor": 5
}
