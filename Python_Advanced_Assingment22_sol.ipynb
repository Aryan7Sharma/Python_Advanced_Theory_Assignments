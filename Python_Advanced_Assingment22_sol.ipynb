{
 "cells": [
  {
   "cell_type": "markdown",
   "id": "b380fb66",
   "metadata": {},
   "source": [
    "# Assingment22_sol"
   ]
  },
  {
   "cell_type": "markdown",
   "id": "39274da6",
   "metadata": {},
   "source": [
    "Q1. What are the benefits of the built-in array package, if any?\n",
    "\n",
    "### sol--> The Array is built-in Python, which only means that you don’t need to download and install it because it comes with native Python.(import array) and it comes with many pre-built methods() like get the size of array shape of array dimension of array ect be can find with only onle line of code by using its pre-built methods or functions().\n",
    "\n",
    "Q2. What are some of the array package's limitations?\n",
    "\n",
    "### sol--> Can handle arithmetic operations, must contain all elements of the same size and mostly used in the longer sequence of data elements.\n",
    "\n",
    "Q3. Describe the main differences between the array and numpy packages.\n",
    "\n",
    "### sol--> Numpy data structures perform better in size,Performance,Functionality etc.\n",
    "    Size - Numpy data structures take up less space\n",
    "    Performance - they have a need for speed and are faster than lists\n",
    "    Functionality - SciPy and NumPy have optimized functions such as linear algebra operations built in.\n",
    "\n",
    "Q4. Explain the distinctions between the empty, ones, and zeros functions.\n",
    "\n",
    "### sol-->  empty, unlike zeros, does not set the array values to zero, and may therefore be marginally faster. On the other hand, it requires the user to manually set all the values in the array, and should be used with caution. Return a new array setting values to zero.\n",
    "    np.ones([3,3]) --> array([[1., 1., 1.],\n",
    "                              [1., 1., 1.],\n",
    "                              [1., 1., 1.]])\n",
    "\n",
    "    np.zeros([3,3]) --> array([[0., 0., 0.],\n",
    "                               [0., 0., 0.],\n",
    "                               [0., 0., 0.]])\n",
    "    \n",
    "    np.empty([3,3]) --> array([[0., 0., 0.],\n",
    "                               [0., 0., 0.],\n",
    "                               [0., 0., 0.]])\n",
    "\n",
    "Q5. In the fromfunction function, which is used to construct new arrays, what is the role of the callable argument?\n",
    "\n",
    "### sol--> numpy.fromfunction() function construct an array by executing a function over each coordinate and the resulting array, therefore, has a value fn(x, y, z) at coordinate (x, y, z).\n",
    "\n",
    "    np.fromfunction(lambda i,j:i==j,(3,3))\n",
    "    \n",
    "    array([[ True, False, False],\n",
    "       [False,  True, False],\n",
    "       [False, False,  True]])\n",
    "    \n",
    "\n",
    "Q6. What happens when a numpy array is combined with a single-value operand (a scalar, such as an int or a floating-point value) through addition, as in the expression A + n?\n",
    "\n",
    "### sol--> (A + n) It can add the value of (n) in every element of array (A).\n",
    "           A=np.ones([2,2]) -->      array([[1., 1.],\n",
    "                                           [1., 1.]])\n",
    "                                           \n",
    "           n=2\n",
    "           \n",
    "           A+n -->                   array([[3., 3.],\n",
    "                                           [3., 3.]])\n",
    "\n",
    "Q7. Can array-to-scalar operations use combined operation-assign operators (such as += or *=)? What is the outcome?\n",
    "\n",
    "### sol--> yes It is possible Concatenate can take two or more arrays of the same shape and by default it concatenates row-wise i.e. axis=0. The resulting array after row-wise concatenation is of the shape 6 x 3, i.e. 6 rows and 3 columns.\n",
    "\n",
    "    np.ones([2,2])+np.ones([2,2]) -->   array([[2., 2.],\n",
    "                                               [2., 2.]])\n",
    "\n",
    "\n",
    "\n",
    "    np.ones([2,2])*np.zeros([2,2])  -->   array([[0., 0.],\n",
    "                                                 [0., 0.]])\n",
    "    \n",
    "    \n",
    " \n",
    "Q8. Does a numpy array contain fixed-length strings? What happens if you allocate a longer string to one of these arrays?\n",
    "\n",
    "### sol--> NumPy arrays have a fixed size at creation, but the length of string is not fixed  unlike Python lists (which can grow dynamically). Changing the size of an ndarray will create a new array and delete the original. The elements in a NumPy array are all required to be of the same data type, so you can not allocate a longer string to one of these arrays.\n",
    "    \n",
    "Q9. What happens when you combine two numpy arrays using an operation like addition (+) or multiplication (*)? What are the conditions for combining two numpy arrays?\n",
    "\n",
    "### sol--> When one or more of the arrays to  is a MaskedArray, this function will return a MaskedArray object instead of an ndarray, but the input masks are not preserved.\n",
    "\n",
    "Q10. What is the best way to use a Boolean array to mask another array?\n",
    "\n",
    "### sol-->  np.random.random((3,3))<0.5\n",
    "    array([[0.78131245, 0.79342805, 0.97317221],               array([[False, False, False],        \n",
    "       [0.83065666, 0.26627861, 0.6664604 ],        -->               [False,  True, False],\n",
    "       [0.11444078, 0.55676124, 0.67177863]])                         [False, False, False]]) \n",
    "\n",
    "Q11. What are three different ways to get the standard deviation of a wide collection of data using both standard Python and its packages? Sort the three of them by how quickly they execute.\n",
    "\n",
    "### sol--> (1)--stdev() method in Python statistics module. (2)--var = variance(data) ,std_dev = math.sqrt(var).    (3) -- std()  #standard deviation function\n",
    "\n",
    "    arr=[7, 2, 4, 3, 9, 12, 10, 2]\n",
    "    std=np.array(arr)\n",
    "    \n",
    "    std.std()\n",
    "    \n",
    "    import statistics as st\n",
    "    st.stdev(arr)\n",
    "\n",
    "\n",
    "    m=st.mean(arr)\n",
    "    st.stdev(arr, xbar = m)\n",
    "    \n",
    "Q12. What is the dimensionality of a Boolean mask-generated array?\n",
    "\n",
    "### sol--> Through (.ndim)\n",
    "    x = np.array([1,3,-1, 5, 7, -1]) \n",
    "    mask = (x < 0)  \n",
    "    arr=mask\n",
    "    arr.ndim  --> 1\n"
   ]
  },
  {
   "cell_type": "code",
   "execution_count": 10,
   "id": "5048cb15",
   "metadata": {},
   "outputs": [],
   "source": [
    "#sol1\n",
    "from array import array"
   ]
  },
  {
   "cell_type": "code",
   "execution_count": 13,
   "id": "e5b962ac",
   "metadata": {},
   "outputs": [
    {
     "data": {
      "text/plain": [
       "array('u', 'abcdefg')"
      ]
     },
     "execution_count": 13,
     "metadata": {},
     "output_type": "execute_result"
    }
   ],
   "source": [
    "array('u', 'abcdefg')"
   ]
  },
  {
   "cell_type": "code",
   "execution_count": 14,
   "id": "406c1393",
   "metadata": {},
   "outputs": [],
   "source": [
    "arr=array('u', 'abcdefg')"
   ]
  },
  {
   "cell_type": "code",
   "execution_count": 15,
   "id": "571451ad",
   "metadata": {},
   "outputs": [
    {
     "data": {
      "text/plain": [
       "array('u', 'abcdefg')"
      ]
     },
     "execution_count": 15,
     "metadata": {},
     "output_type": "execute_result"
    }
   ],
   "source": [
    "arr"
   ]
  },
  {
   "cell_type": "code",
   "execution_count": 17,
   "id": "0e87ce8f",
   "metadata": {},
   "outputs": [
    {
     "data": {
      "text/plain": [
       "4"
      ]
     },
     "execution_count": 17,
     "metadata": {},
     "output_type": "execute_result"
    }
   ],
   "source": [
    "arr.itemsize"
   ]
  },
  {
   "cell_type": "code",
   "execution_count": 21,
   "id": "cd1c8795",
   "metadata": {},
   "outputs": [
    {
     "data": {
      "text/plain": [
       "'u'"
      ]
     },
     "execution_count": 21,
     "metadata": {},
     "output_type": "execute_result"
    }
   ],
   "source": [
    "arr.typecode"
   ]
  },
  {
   "cell_type": "code",
   "execution_count": 22,
   "id": "af15e384",
   "metadata": {},
   "outputs": [
    {
     "data": {
      "text/plain": [
       "7"
      ]
     },
     "execution_count": 22,
     "metadata": {},
     "output_type": "execute_result"
    }
   ],
   "source": [
    "len(arr)"
   ]
  },
  {
   "cell_type": "code",
   "execution_count": 23,
   "id": "c1c43128",
   "metadata": {},
   "outputs": [
    {
     "data": {
      "text/plain": [
       "1"
      ]
     },
     "execution_count": 23,
     "metadata": {},
     "output_type": "execute_result"
    }
   ],
   "source": [
    "arr.count('f')"
   ]
  },
  {
   "cell_type": "code",
   "execution_count": 27,
   "id": "38435df5",
   "metadata": {},
   "outputs": [],
   "source": [
    "arr.append('f')"
   ]
  },
  {
   "cell_type": "code",
   "execution_count": 28,
   "id": "427ec915",
   "metadata": {},
   "outputs": [
    {
     "data": {
      "text/plain": [
       "2"
      ]
     },
     "execution_count": 28,
     "metadata": {},
     "output_type": "execute_result"
    }
   ],
   "source": [
    "arr.count('f')"
   ]
  },
  {
   "cell_type": "code",
   "execution_count": 29,
   "id": "19866396",
   "metadata": {},
   "outputs": [],
   "source": [
    "arr.extend('fff')"
   ]
  },
  {
   "cell_type": "code",
   "execution_count": 30,
   "id": "2d0fbc4e",
   "metadata": {},
   "outputs": [
    {
     "data": {
      "text/plain": [
       "5"
      ]
     },
     "execution_count": 30,
     "metadata": {},
     "output_type": "execute_result"
    }
   ],
   "source": [
    "arr.count('f')"
   ]
  },
  {
   "cell_type": "code",
   "execution_count": 31,
   "id": "dfcad84c",
   "metadata": {},
   "outputs": [
    {
     "data": {
      "text/plain": [
       "array('u', 'abcdefgffff')"
      ]
     },
     "execution_count": 31,
     "metadata": {},
     "output_type": "execute_result"
    }
   ],
   "source": [
    "arr"
   ]
  },
  {
   "cell_type": "code",
   "execution_count": 32,
   "id": "838e759c",
   "metadata": {},
   "outputs": [
    {
     "data": {
      "text/plain": [
       "'f'"
      ]
     },
     "execution_count": 32,
     "metadata": {},
     "output_type": "execute_result"
    }
   ],
   "source": [
    "arr.pop()"
   ]
  },
  {
   "cell_type": "code",
   "execution_count": 33,
   "id": "8cdda741",
   "metadata": {},
   "outputs": [
    {
     "data": {
      "text/plain": [
       "array('u', 'abcdefgfff')"
      ]
     },
     "execution_count": 33,
     "metadata": {},
     "output_type": "execute_result"
    }
   ],
   "source": [
    "arr"
   ]
  },
  {
   "cell_type": "code",
   "execution_count": 37,
   "id": "961ab835",
   "metadata": {},
   "outputs": [
    {
     "data": {
      "text/plain": [
       "array('u', 'fffgfedcba')"
      ]
     },
     "execution_count": 37,
     "metadata": {},
     "output_type": "execute_result"
    }
   ],
   "source": [
    "arr.reverse()\n",
    "arr"
   ]
  },
  {
   "cell_type": "code",
   "execution_count": 38,
   "id": "e472e84e",
   "metadata": {},
   "outputs": [
    {
     "data": {
      "text/plain": [
       "['f', 'f', 'f', 'g', 'f', 'e', 'd', 'c', 'b', 'a']"
      ]
     },
     "execution_count": 38,
     "metadata": {},
     "output_type": "execute_result"
    }
   ],
   "source": [
    "arr.tolist()"
   ]
  },
  {
   "cell_type": "code",
   "execution_count": 60,
   "id": "7cf58f68",
   "metadata": {},
   "outputs": [
    {
     "data": {
      "text/plain": [
       "array([[1., 1., 1.],\n",
       "       [1., 1., 1.],\n",
       "       [1., 1., 1.]])"
      ]
     },
     "execution_count": 60,
     "metadata": {},
     "output_type": "execute_result"
    }
   ],
   "source": [
    "#sol4\n",
    "np.ones([3,3])"
   ]
  },
  {
   "cell_type": "code",
   "execution_count": 62,
   "id": "d3379ae6",
   "metadata": {},
   "outputs": [
    {
     "data": {
      "text/plain": [
       "array([[0., 0., 0.],\n",
       "       [0., 0., 0.],\n",
       "       [0., 0., 0.]])"
      ]
     },
     "execution_count": 62,
     "metadata": {},
     "output_type": "execute_result"
    }
   ],
   "source": [
    "np.empty([3,3])"
   ]
  },
  {
   "cell_type": "code",
   "execution_count": 61,
   "id": "7eeacffb",
   "metadata": {},
   "outputs": [
    {
     "data": {
      "text/plain": [
       "array([[0., 0., 0.],\n",
       "       [0., 0., 0.],\n",
       "       [0., 0., 0.]])"
      ]
     },
     "execution_count": 61,
     "metadata": {},
     "output_type": "execute_result"
    }
   ],
   "source": [
    "np.zeros([3,3])"
   ]
  },
  {
   "cell_type": "code",
   "execution_count": 65,
   "id": "c865d0ad",
   "metadata": {},
   "outputs": [
    {
     "data": {
      "text/plain": [
       "array([[ True, False, False],\n",
       "       [False,  True, False],\n",
       "       [False, False,  True]])"
      ]
     },
     "execution_count": 65,
     "metadata": {},
     "output_type": "execute_result"
    }
   ],
   "source": [
    "#sol5\n",
    "np.fromfunction(lambda i,j:i==j,(3,3))"
   ]
  },
  {
   "cell_type": "code",
   "execution_count": null,
   "id": "13f212a6",
   "metadata": {},
   "outputs": [],
   "source": []
  },
  {
   "cell_type": "code",
   "execution_count": 1,
   "id": "06e358d5",
   "metadata": {},
   "outputs": [
    {
     "data": {
      "text/plain": [
       "array([[1., 1.],\n",
       "       [1., 1.]])"
      ]
     },
     "execution_count": 1,
     "metadata": {},
     "output_type": "execute_result"
    }
   ],
   "source": [
    "#sol6\n",
    "import numpy as np\n",
    "A=np.ones([2,2])\n",
    "A"
   ]
  },
  {
   "cell_type": "code",
   "execution_count": 2,
   "id": "df8d3825",
   "metadata": {},
   "outputs": [],
   "source": [
    "n=2\n",
    "A+=n"
   ]
  },
  {
   "cell_type": "code",
   "execution_count": 3,
   "id": "e042ddb0",
   "metadata": {},
   "outputs": [
    {
     "data": {
      "text/plain": [
       "array([[3., 3.],\n",
       "       [3., 3.]])"
      ]
     },
     "execution_count": 3,
     "metadata": {},
     "output_type": "execute_result"
    }
   ],
   "source": [
    "A"
   ]
  },
  {
   "cell_type": "code",
   "execution_count": 5,
   "id": "24c097b7",
   "metadata": {},
   "outputs": [
    {
     "data": {
      "text/plain": [
       "array([[2., 2.],\n",
       "       [2., 2.]])"
      ]
     },
     "execution_count": 5,
     "metadata": {},
     "output_type": "execute_result"
    }
   ],
   "source": [
    "#sol7\n",
    "np.ones([2,2])+np.ones([2,2])"
   ]
  },
  {
   "cell_type": "code",
   "execution_count": 7,
   "id": "b399ce07",
   "metadata": {},
   "outputs": [
    {
     "data": {
      "text/plain": [
       "array([[0., 0.],\n",
       "       [0., 0.]])"
      ]
     },
     "execution_count": 7,
     "metadata": {},
     "output_type": "execute_result"
    }
   ],
   "source": [
    "np.ones([2,2])*np.zeros([2,2])"
   ]
  },
  {
   "cell_type": "code",
   "execution_count": 17,
   "id": "f7c6b0fd",
   "metadata": {},
   "outputs": [
    {
     "data": {
      "text/plain": [
       "array(['i', 'N', 'e', '', 'u', 'ro', 'n'], dtype='<U2')"
      ]
     },
     "execution_count": 17,
     "metadata": {},
     "output_type": "execute_result"
    }
   ],
   "source": [
    "#sol8\n",
    "arra=np.array([\"i\",\"N\",\"e\",'',\"u\",\"ro\",\"n\"])\n",
    "arra"
   ]
  },
  {
   "cell_type": "code",
   "execution_count": 18,
   "id": "06d5a867",
   "metadata": {},
   "outputs": [
    {
     "data": {
      "text/plain": [
       "array(['i', 'N', 'e', 'He', 'u', 'ro', 'n'], dtype='<U2')"
      ]
     },
     "execution_count": 18,
     "metadata": {},
     "output_type": "execute_result"
    }
   ],
   "source": [
    "arra[arra == ''] = 'Hello'\n",
    "arra"
   ]
  },
  {
   "cell_type": "code",
   "execution_count": 78,
   "id": "b1455481",
   "metadata": {},
   "outputs": [
    {
     "data": {
      "text/plain": [
       "array([[0.98594315, 0.54567335, 0.88311443],\n",
       "       [0.48335678, 0.8145122 , 0.80422092],\n",
       "       [0.90423484, 0.65365753, 0.38113567]])"
      ]
     },
     "execution_count": 78,
     "metadata": {},
     "output_type": "execute_result"
    }
   ],
   "source": [
    "#sol10\n",
    "np.random.random((3,3))"
   ]
  },
  {
   "cell_type": "code",
   "execution_count": 16,
   "id": "485d3792",
   "metadata": {},
   "outputs": [
    {
     "data": {
      "text/plain": [
       "array([[ True,  True, False],\n",
       "       [False, False, False],\n",
       "       [False, False, False]])"
      ]
     },
     "execution_count": 16,
     "metadata": {},
     "output_type": "execute_result"
    }
   ],
   "source": [
    "np.random.random((3,3))<0.5"
   ]
  },
  {
   "cell_type": "code",
   "execution_count": 25,
   "id": "84fa2e82",
   "metadata": {},
   "outputs": [],
   "source": [
    "#sol 11\n",
    "arr=[7, 2, 4, 3, 9, 12, 10, 2]\n",
    "std=np.array(arr)"
   ]
  },
  {
   "cell_type": "code",
   "execution_count": 26,
   "id": "77d572b2",
   "metadata": {},
   "outputs": [
    {
     "data": {
      "text/plain": [
       "3.6550478793033614"
      ]
     },
     "execution_count": 26,
     "metadata": {},
     "output_type": "execute_result"
    }
   ],
   "source": [
    "std.std()"
   ]
  },
  {
   "cell_type": "code",
   "execution_count": 29,
   "id": "215c7df4",
   "metadata": {},
   "outputs": [
    {
     "data": {
      "text/plain": [
       "3.9074105418879577"
      ]
     },
     "execution_count": 29,
     "metadata": {},
     "output_type": "execute_result"
    }
   ],
   "source": [
    "import statistics as st\n",
    "st.stdev(arr)"
   ]
  },
  {
   "cell_type": "code",
   "execution_count": 34,
   "id": "e4bfda1d",
   "metadata": {},
   "outputs": [
    {
     "data": {
      "text/plain": [
       "3.9074105418879577"
      ]
     },
     "execution_count": 34,
     "metadata": {},
     "output_type": "execute_result"
    }
   ],
   "source": [
    "m=st.mean(arr)\n",
    "st.stdev(arr, xbar = m)"
   ]
  },
  {
   "cell_type": "code",
   "execution_count": 41,
   "id": "3e0e51fd",
   "metadata": {},
   "outputs": [
    {
     "data": {
      "text/plain": [
       "1"
      ]
     },
     "execution_count": 41,
     "metadata": {},
     "output_type": "execute_result"
    }
   ],
   "source": [
    "#sol 12\n",
    "x = np.array([1,3,-1, 5, 7, -1]) \n",
    "mask = (x < 0)  \n",
    "arr=mask\n",
    "arr.ndim"
   ]
  },
  {
   "cell_type": "code",
   "execution_count": null,
   "id": "6ae8114d",
   "metadata": {},
   "outputs": [],
   "source": []
  }
 ],
 "metadata": {
  "kernelspec": {
   "display_name": "Python 3 (ipykernel)",
   "language": "python",
   "name": "python3"
  },
  "language_info": {
   "codemirror_mode": {
    "name": "ipython",
    "version": 3
   },
   "file_extension": ".py",
   "mimetype": "text/x-python",
   "name": "python",
   "nbconvert_exporter": "python",
   "pygments_lexer": "ipython3",
   "version": "3.9.7"
  }
 },
 "nbformat": 4,
 "nbformat_minor": 5
}
