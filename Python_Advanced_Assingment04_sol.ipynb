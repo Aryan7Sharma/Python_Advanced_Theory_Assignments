{
 "cells": [
  {
   "cell_type": "markdown",
   "id": "379a81b2",
   "metadata": {},
   "source": [
    "# Assingment04_sol"
   ]
  },
  {
   "cell_type": "markdown",
   "id": "d40bb70a",
   "metadata": {},
   "source": [
    "Q1. Which two operator overloading methods can you use in your classes to support iteration?\n",
    "\n",
    "### sol-->  __iter__ method and __next__ method\n",
    "\n",
    "Q3. In a class, how do you intercept slice operations?\n",
    "\n",
    "### sol--> __getitem__(slice(start, stop, step))\n",
    "\n",
    "Q4. In a class, how do you capture in-place addition?\n",
    "\n",
    "### sol--> a+=b\n",
    "\n",
    "Q5. When is it appropriate to use operator overloading?\n",
    "\n",
    "### sol--> When we want to provide a special meaning of an operator for a user-defined data type.\n"
   ]
  },
  {
   "cell_type": "code",
   "execution_count": null,
   "id": "f338e35b",
   "metadata": {},
   "outputs": [],
   "source": []
  }
 ],
 "metadata": {
  "kernelspec": {
   "display_name": "Python 3 (ipykernel)",
   "language": "python",
   "name": "python3"
  },
  "language_info": {
   "codemirror_mode": {
    "name": "ipython",
    "version": 3
   },
   "file_extension": ".py",
   "mimetype": "text/x-python",
   "name": "python",
   "nbconvert_exporter": "python",
   "pygments_lexer": "ipython3",
   "version": "3.9.7"
  }
 },
 "nbformat": 4,
 "nbformat_minor": 5
}
