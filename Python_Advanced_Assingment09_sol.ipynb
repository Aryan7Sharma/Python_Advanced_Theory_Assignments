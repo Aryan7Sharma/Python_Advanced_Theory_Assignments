{
 "cells": [
  {
   "cell_type": "markdown",
   "id": "cd45cebf",
   "metadata": {},
   "source": [
    "# Assingment09_sol"
   ]
  },
  {
   "cell_type": "markdown",
   "id": "dff2a148",
   "metadata": {},
   "source": [
    "Q1. In Python 3.X, what are the names and functions of string object types?\n",
    "\n",
    "### sol--> join(), split(), lower()\n",
    "\n",
    "Q2. How do the string forms in Python 3.X vary in terms of operations?\n",
    "\n",
    "### sol--> Strings can be created by enclosing characters inside a single-quote, double-quotes or triple-quotes.\n",
    "\n",
    "Q3. In 3.X, how do you put non-ASCII Unicode characters in a string?\n",
    "\n",
    "### sol--> In order to use non-ASCII characters, Python requires explicit encoding and decoding of strings into Unicode.\n",
    "\n",
    "Q4. In Python 3.X, what are the key differences between text-mode and binary-mode files?\n",
    "\n",
    "### sol-->Text-mode_files -- In text file, text, character, numbers are stored one character per byte,text files are used to store data more user friendly, In the text file, a special character whose ASCII value is 26 inserted after the last, In the binary file no such character is present and the content written in text files is human readable.\n",
    "\n",
    "### Binary-mode_files -- In binary file data is stored in binary format and each data would occupy the same number of bytes on disks as it occupies in memory, binary files are used to store data more compactly,In the binary file no such character is present and the content written in binary files is machine readable not human readable.\n",
    "\n",
    "Q5. How can you interpret a Unicode text file containing text encoded in a different encoding than your platform's default?\n",
    "\n",
    "### sol--> Python 3 always stores text strings as sequences of Unicode code points. These are values in the range 0-0x10FFFF. They don’t always correspond directly to the characters you read on your screen, but that distinction doesn’t matter for most text manipulation tasks.\n",
    "\n",
    "Q6. What is the best way to make a Unicode text file in a particular encoding format?\n",
    "\n",
    "### sol--> you should either use normal open() and encode the unicode yourself, or (usually a better idea) use codecs.open() and not encode the data yourself.\n",
    "\n",
    "Q7. What qualifies ASCII text as a form of Unicode text?\n",
    "\n",
    "### sol--> ASCII has its equivalent in Unicode. The difference between ASCII and Unicode is that ASCII represents lowercase letters (a-z), uppercase letters (A-Z), digits (0–9) and symbols such as punctuation marks while Unicode represents letters of English etc.\n",
    "\n",
    "Q8. How much of an effect does the change in string types in Python 3.X have on your code?\n",
    "\n",
    "### sol-->Python has several built-in functions associated with the string data type. These functions let us easily modify and manipulate strings."
   ]
  },
  {
   "cell_type": "code",
   "execution_count": 1,
   "id": "49ea498c",
   "metadata": {},
   "outputs": [
    {
     "data": {
      "text/plain": [
       "'INEURON'"
      ]
     },
     "execution_count": 1,
     "metadata": {},
     "output_type": "execute_result"
    }
   ],
   "source": [
    "#sol8\n",
    "string=\"ineuron\"\n",
    "string.upper()"
   ]
  },
  {
   "cell_type": "code",
   "execution_count": null,
   "id": "e6c02ae1",
   "metadata": {},
   "outputs": [],
   "source": []
  }
 ],
 "metadata": {
  "kernelspec": {
   "display_name": "Python 3 (ipykernel)",
   "language": "python",
   "name": "python3"
  },
  "language_info": {
   "codemirror_mode": {
    "name": "ipython",
    "version": 3
   },
   "file_extension": ".py",
   "mimetype": "text/x-python",
   "name": "python",
   "nbconvert_exporter": "python",
   "pygments_lexer": "ipython3",
   "version": "3.9.7"
  }
 },
 "nbformat": 4,
 "nbformat_minor": 5
}
