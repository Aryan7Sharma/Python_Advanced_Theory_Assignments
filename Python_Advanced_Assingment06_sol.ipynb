{
 "cells": [
  {
   "cell_type": "markdown",
   "id": "379a81b2",
   "metadata": {},
   "source": [
    "# Assingment06_sol"
   ]
  },
  {
   "cell_type": "markdown",
   "id": "c77817dc",
   "metadata": {},
   "source": [
    "Q1. Describe three applications for exception processing.\n",
    "\n",
    "### sol--> try,except,finally\n",
    "\n",
    "Q2. What happens if you don't do something extra to treat an exception?\n",
    "\n",
    "### sol--> if we didn't handle the exception part than our maybe throgh as errors on runtine or it failed during the excution  maybe  because of the user give an wrong input ect so we need to hasdle the exception part very carefully.\n",
    "\n",
    "Q3. What are your options for recovering from an exception in your script?\n",
    "\n",
    "### sol--> A single try statement can have multiple except statements. This is useful when the try block contains statements that may throw different types of exceptions, you can also provide a generic except clause, which handles any exception, after the except clause(s), you can also include an else-clause.\n",
    "\n",
    "Q4. Describe two methods for triggering exceptions in your script.\n",
    "\n",
    "### sol--> There are two methods to handle Python exceptions:try and raise.\n",
    "\n",
    "Q5. Identify two methods for specifying actions to be executed at termination time, regardless of whether or not an exception exists.\n",
    "\n",
    "### sol--> Finally block always executes irrespective of an exception being thrown or not. The final keyword allows you to create a block of code that follows a try-except block."
   ]
  },
  {
   "cell_type": "code",
   "execution_count": null,
   "id": "0c0245b1",
   "metadata": {},
   "outputs": [],
   "source": []
  }
 ],
 "metadata": {
  "kernelspec": {
   "display_name": "Python 3 (ipykernel)",
   "language": "python",
   "name": "python3"
  },
  "language_info": {
   "codemirror_mode": {
    "name": "ipython",
    "version": 3
   },
   "file_extension": ".py",
   "mimetype": "text/x-python",
   "name": "python",
   "nbconvert_exporter": "python",
   "pygments_lexer": "ipython3",
   "version": "3.9.7"
  }
 },
 "nbformat": 4,
 "nbformat_minor": 5
}
