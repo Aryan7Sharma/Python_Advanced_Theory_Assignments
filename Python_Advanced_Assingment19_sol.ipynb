{
 "cells": [
  {
   "cell_type": "markdown",
   "id": "1fd56a7a",
   "metadata": {},
   "source": [
    "# Assingment19_sol"
   ]
  },
  {
   "cell_type": "markdown",
   "id": "1730a4c9",
   "metadata": {},
   "source": [
    "Q1. Define the relationship between a class and its instances. Is it a one-to-one or a one-to-many partnership, for example?\n",
    "\n",
    "### sol--> A class defines the structure and behaviors of all entities of a given type. An object is one particular \"instance\" of that type of entity. For example, if Student is a class, then a particular student named aryan would be an object of nam of the Student.\n",
    "\n",
    "Q2. What kind of data is held only in an instance?\n",
    "\n",
    "### sol--> Instance variables are created when an object is instantiated, and are accessible to all the constructors, methods, or blocks in the class. Access modifiers can be given to the instance variable.\n",
    "\n",
    "Q3. What kind of knowledge is stored in a class?\n",
    "\n",
    "### sol--> In object-oriented programming , a class is a template definition of the method s and variable s in a particular kind of object . Thus, an object is a specific instance of a class; it contains real values instead of variables.\n",
    "\n",
    "Q4. What exactly is a method, and how is it different from a regular function?\n",
    "\n",
    "### sol--> Methods are associated with the objects of the class they belong to. Functions are not associated with any object.\n",
    "\n",
    "Q5. Is inheritance supported in Python, and if so, what is the syntax?\n",
    "\n",
    "### sol--> Yes inheritance supported in Python \n",
    "    class class1:  # base class or parent class\n",
    "        pass   \n",
    "    class class2(class1):  # child class of (class1) \n",
    "           pass \n",
    "    class class3(class2):  # child class of (class2)\n",
    "        pass  \n",
    "\n",
    "Q6. How much encapsulation (making instance or class variables private) does Python support?\n",
    "\n",
    "### sol--> just use an double underscore before variablename(__variablename) to make an member private.\n",
    "class class1:\n",
    "    def __init__(self):\n",
    "        self.str=\"public\"\n",
    "        self.__str = \"Private\" #private member\n",
    "    def func(self):\n",
    "        return self.__str\n",
    "        \n",
    "obj1 = class1()\n",
    "print(obj1.str)\n",
    "print(obj1.func())\n",
    "print(obj1.__str)\n",
    "\n",
    "Q7. How do you distinguish between a class variable and an instance variable?\n",
    "\n",
    "### sol--> Class variables are shared across all objects while instance variables are for data unique to each instance.\n",
    "\n",
    "Q8. When, if ever, can self be included in a class's method definitions?\n",
    "\n",
    "### sol--> The self is used to represent the instance of the class.\n",
    "           Note--> self is not a keyword we can use any name instead of self if we want.\n",
    "\n",
    "Q9. What is the difference between the _ _add_ _ and the _ _radd_ _ methods?\n",
    "\n",
    "### sol-->  There is no difference. One performs a+b, the other b+a. Likewise rmul and mul produce the same result.\n",
    "\n",
    "Q10. When is it necessary to use a reflection method? When do you not need it, even though you support the operation in question?\n",
    "\n",
    "### sol-->\n",
    "\n",
    "Q11. What is the _ _iadd_ _ method called?\n",
    "\n",
    "### sol--> Reflection refers to the ability for code to be able to examine attributes about objects that might be passed as parameters to a function. For example, if we write type(obj) then Python will return an object which represents the type of obj.\n",
    "\n",
    "Q12. Is the _ _init_ _ method inherited by subclasses? What do you do if you need to customize its behavior within a subclass?\n",
    "\n",
    "### sol-->  The subclasses' __init__() methods don't automatically call the __init__() methods of their superclasses. we need to call it with the help of the super keyword then be also  be able to customize its behavior inside a subclass.\n"
   ]
  },
  {
   "cell_type": "code",
   "execution_count": 19,
   "id": "acca65c0",
   "metadata": {},
   "outputs": [],
   "source": [
    "#sol1\n",
    "class Student:\n",
    "    def stu(self,name,rollno,classn):    \n",
    "        return name,rollno,classn"
   ]
  },
  {
   "cell_type": "code",
   "execution_count": 24,
   "id": "0a64a7fd",
   "metadata": {},
   "outputs": [
    {
     "name": "stdout",
     "output_type": "stream",
     "text": [
      "('aryan', 10, 'B.C.A')\n",
      "('rohan', 29, 'B.C.A')\n",
      "('tanya', 46, 'B.C.A')\n"
     ]
    }
   ],
   "source": [
    "s1,s2,s3=Student(),Student(),Student()\n",
    "print(s1.stu(\"aryan\",10,\"B.C.A\"))\n",
    "print(s2.stu(\"rohan\",29,\"B.C.A\"))\n",
    "print(s3.stu(\"tanya\",46,\"B.C.A\"))"
   ]
  },
  {
   "cell_type": "code",
   "execution_count": 29,
   "id": "4e871412",
   "metadata": {},
   "outputs": [
    {
     "name": "stdout",
     "output_type": "stream",
     "text": [
      "('iNeuron', 'aryan', 10, 'B.C.A')\n",
      "('iNeuron', 'rohan', 29, 'B.C.A')\n",
      "('iNeuron', 'tanya', 46, 'B.C.A')\n"
     ]
    }
   ],
   "source": [
    "#sol2\n",
    "class Student:\n",
    "    def __init__(self,sn=\"iNeuron\"):     #instance\n",
    "        self.college_name=sn\n",
    "\n",
    "    def stu(self,name,rollno,classn):    \n",
    "        return self.college_name,name,rollno,classn\n",
    "    \n",
    "    \n",
    "s1,s2,s3=Student(),Student(),Student()\n",
    "print(s1.stu(\"aryan\",10,\"B.C.A\"))\n",
    "print(s2.stu(\"rohan\",29,\"B.C.A\"))\n",
    "print(s3.stu(\"tanya\",46,\"B.C.A\"))   "
   ]
  },
  {
   "cell_type": "code",
   "execution_count": 37,
   "id": "cfb951ec",
   "metadata": {},
   "outputs": [
    {
     "data": {
      "text/plain": [
       "'This is a function not associated with any object'"
      ]
     },
     "execution_count": 37,
     "metadata": {},
     "output_type": "execute_result"
    }
   ],
   "source": [
    "#sol4\n",
    "def func(): #function\n",
    "    return \"This is a function not associated with any object\" \n",
    "\n",
    "func()"
   ]
  },
  {
   "cell_type": "code",
   "execution_count": 39,
   "id": "7b336d80",
   "metadata": {},
   "outputs": [
    {
     "data": {
      "text/plain": [
       "'This is an Methon of class1'"
      ]
     },
     "execution_count": 39,
     "metadata": {},
     "output_type": "execute_result"
    }
   ],
   "source": [
    "class class1:\n",
    "    def method(self): # method\n",
    "        return \"This is an Methon of class1\"\n",
    "    \n",
    "obj=class1()\n",
    "obj.method()"
   ]
  },
  {
   "cell_type": "code",
   "execution_count": 40,
   "id": "65e0974e",
   "metadata": {},
   "outputs": [],
   "source": [
    "#sol5\n",
    "class class1:  # base class or parent class\n",
    "    pass   \n",
    "class class2(class1):  # child class of (class1) \n",
    "    pass  \n",
    "class class3(class2):  # child class of (class2)\n",
    "    pass  "
   ]
  },
  {
   "cell_type": "code",
   "execution_count": 53,
   "id": "eb365763",
   "metadata": {},
   "outputs": [
    {
     "name": "stdout",
     "output_type": "stream",
     "text": [
      "public\n",
      "Private\n"
     ]
    },
    {
     "ename": "AttributeError",
     "evalue": "'class1' object has no attribute '__str'",
     "output_type": "error",
     "traceback": [
      "\u001b[0;31m---------------------------------------------------------------------------\u001b[0m",
      "\u001b[0;31mAttributeError\u001b[0m                            Traceback (most recent call last)",
      "\u001b[0;32m/tmp/ipykernel_6631/596756865.py\u001b[0m in \u001b[0;36m<module>\u001b[0;34m\u001b[0m\n\u001b[1;32m     10\u001b[0m \u001b[0mprint\u001b[0m\u001b[0;34m(\u001b[0m\u001b[0mobj1\u001b[0m\u001b[0;34m.\u001b[0m\u001b[0mstr\u001b[0m\u001b[0;34m)\u001b[0m\u001b[0;34m\u001b[0m\u001b[0;34m\u001b[0m\u001b[0m\n\u001b[1;32m     11\u001b[0m \u001b[0mprint\u001b[0m\u001b[0;34m(\u001b[0m\u001b[0mobj1\u001b[0m\u001b[0;34m.\u001b[0m\u001b[0mfunc\u001b[0m\u001b[0;34m(\u001b[0m\u001b[0;34m)\u001b[0m\u001b[0;34m)\u001b[0m\u001b[0;34m\u001b[0m\u001b[0;34m\u001b[0m\u001b[0m\n\u001b[0;32m---> 12\u001b[0;31m \u001b[0mprint\u001b[0m\u001b[0;34m(\u001b[0m\u001b[0mobj1\u001b[0m\u001b[0;34m.\u001b[0m\u001b[0m__str\u001b[0m\u001b[0;34m)\u001b[0m \u001b[0;31m# because __str is private member\u001b[0m\u001b[0;34m\u001b[0m\u001b[0;34m\u001b[0m\u001b[0m\n\u001b[0m",
      "\u001b[0;31mAttributeError\u001b[0m: 'class1' object has no attribute '__str'"
     ]
    }
   ],
   "source": [
    "#sol6\n",
    "class class1:\n",
    "    def __init__(self):\n",
    "        self.str=\"public\"\n",
    "        self.__str = \"Private\" #private member\n",
    "    def func(self):\n",
    "        return self.__str\n",
    "        \n",
    "obj1 = class1()\n",
    "print(obj1.str)\n",
    "print(obj1.func())\n",
    "print(obj1.__str) # because __str is private member"
   ]
  },
  {
   "cell_type": "code",
   "execution_count": 60,
   "id": "d7de374c",
   "metadata": {},
   "outputs": [],
   "source": [
    "#sol8\n",
    "class Student:\n",
    "    def stu(ssself):    \n",
    "        pass\n",
    "obj=Student()\n",
    "obj.stu() "
   ]
  },
  {
   "cell_type": "code",
   "execution_count": 61,
   "id": "b6c5b9f4",
   "metadata": {},
   "outputs": [
    {
     "ename": "TypeError",
     "evalue": "stu() takes 0 positional arguments but 1 was given",
     "output_type": "error",
     "traceback": [
      "\u001b[0;31m---------------------------------------------------------------------------\u001b[0m",
      "\u001b[0;31mTypeError\u001b[0m                                 Traceback (most recent call last)",
      "\u001b[0;32m/tmp/ipykernel_6631/1760230289.py\u001b[0m in \u001b[0;36m<module>\u001b[0;34m\u001b[0m\n\u001b[1;32m      3\u001b[0m         \u001b[0;32mpass\u001b[0m\u001b[0;34m\u001b[0m\u001b[0;34m\u001b[0m\u001b[0m\n\u001b[1;32m      4\u001b[0m \u001b[0mobj\u001b[0m\u001b[0;34m=\u001b[0m\u001b[0mStudent\u001b[0m\u001b[0;34m(\u001b[0m\u001b[0;34m)\u001b[0m\u001b[0;34m\u001b[0m\u001b[0;34m\u001b[0m\u001b[0m\n\u001b[0;32m----> 5\u001b[0;31m \u001b[0mobj\u001b[0m\u001b[0;34m.\u001b[0m\u001b[0mstu\u001b[0m\u001b[0;34m(\u001b[0m\u001b[0;34m)\u001b[0m\u001b[0;34m\u001b[0m\u001b[0;34m\u001b[0m\u001b[0m\n\u001b[0m",
      "\u001b[0;31mTypeError\u001b[0m: stu() takes 0 positional arguments but 1 was given"
     ]
    }
   ],
   "source": [
    "class Student:\n",
    "    def stu():    \n",
    "        pass\n",
    "obj=Student()\n",
    "obj.stu() "
   ]
  },
  {
   "cell_type": "code",
   "execution_count": 70,
   "id": "b9d0b63c",
   "metadata": {},
   "outputs": [
    {
     "name": "stdout",
     "output_type": "stream",
     "text": [
      "norueNi\n",
      "<class 'str'>\n"
     ]
    }
   ],
   "source": [
    "#sol11\n",
    "def reverse(sequence): \n",
    "    sequence_type = type(sequence) \n",
    "    empty_sequence = sequence_type() \n",
    "      \n",
    "    if sequence == empty_sequence: \n",
    "        return empty_sequence \n",
    "      \n",
    "    rest = reverse(sequence[1:]) \n",
    "    first_sequence = sequence[0:1] \n",
    "    final_result = rest + first_sequence\n",
    "    return final_result \n",
    "  \n",
    "print(reverse(\"iNeuron\")) \n",
    "print(type(reverse(\"iNeuron\")))"
   ]
  },
  {
   "cell_type": "code",
   "execution_count": 73,
   "id": "1526631a",
   "metadata": {},
   "outputs": [
    {
     "name": "stdout",
     "output_type": "stream",
     "text": [
      "Do something\n",
      "Do something else\n"
     ]
    }
   ],
   "source": [
    "#sol 12\n",
    "class Superclass(object):\n",
    "    def __init__(self):\n",
    "        print ('Do something')\n",
    "\n",
    "class Subclass(Superclass):\n",
    "    def __init__(self):\n",
    "        super(Subclass, self).__init__()\n",
    "        print ('Do something else')\n",
    "        \n",
    "obj1=Subclass()"
   ]
  },
  {
   "cell_type": "code",
   "execution_count": null,
   "id": "6a81afb9",
   "metadata": {},
   "outputs": [],
   "source": []
  }
 ],
 "metadata": {
  "kernelspec": {
   "display_name": "Python 3 (ipykernel)",
   "language": "python",
   "name": "python3"
  },
  "language_info": {
   "codemirror_mode": {
    "name": "ipython",
    "version": 3
   },
   "file_extension": ".py",
   "mimetype": "text/x-python",
   "name": "python",
   "nbconvert_exporter": "python",
   "pygments_lexer": "ipython3",
   "version": "3.9.7"
  }
 },
 "nbformat": 4,
 "nbformat_minor": 5
}
