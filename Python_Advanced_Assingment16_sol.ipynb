{
 "cells": [
  {
   "cell_type": "markdown",
   "id": "d0612c24",
   "metadata": {},
   "source": [
    "# Assingment16_sol"
   ]
  },
  {
   "cell_type": "markdown",
   "id": "902eee5b",
   "metadata": {},
   "source": [
    "Q1. What is the benefit of regular expressions?\n",
    "\n",
    "### sol--> Regular expressions mostly are useful in search and replace operations.\n",
    "\n",
    "Q2. Describe the difference between the effects of \"(ab)c+\" and \"a(bc)+.\" Which of these, if any, is the unqualified pattern \"abc+\"?\n",
    "\n",
    "### sol-->['a', 'b', 'c'],   ['abc']\n",
    "\n",
    "Q3. How much do you need to use the following sentence while using regular expressions?\n",
    "\n",
    "\n",
    "### sol--> we need to import module re for using of regular expressions.\n",
    "\n",
    "\n",
    "Q4. Which characters have special significance in square brackets when expressing a range, and under what circumstances?\n",
    "\n",
    "### sol--> Square brackets match something that you kind of don't know about a string you're looking for. If you are searching for a name in a string but you're not sure of the exact name you could use instead of that letter a square bracket. Everything you put inside these brackets are alternatives in place of one character.\n",
    "\n",
    "Q5. How does compiling a regular-expression object benefit you?\n",
    "\n",
    "### sol--> We can combine a regular expression pattern into pattern objects, which can be used for pattern matching. It also helps to search a pattern again without rewriting it.\n",
    "\n",
    "Q6. What are some examples of how to use the match object returned by re.match and re.search?\n",
    "\n",
    "Q7. What is the difference between using a vertical bar (|) as an alteration and using square brackets as a character set?\n",
    "\n",
    "### sol--> The vertical bar is a regex \"or\" means \"a or b\". Square brackets are a character class meaning \"any character from a or b.\n",
    "\n",
    "Q8. In regular-expression search patterns, why is it necessary to use the raw-string indicator (r)? In   replacement strings?\n",
    "\n",
    "### sol--> Raw strings help us to get the source code of a RegEx safely to the RegEx parser, which will then assign meaning to character sequences like \\d, \\n  etc."
   ]
  },
  {
   "cell_type": "code",
   "execution_count": 11,
   "id": "e0c2b9f0",
   "metadata": {},
   "outputs": [],
   "source": [
    "import re"
   ]
  },
  {
   "cell_type": "code",
   "execution_count": 22,
   "id": "fb7a6c33",
   "metadata": {},
   "outputs": [
    {
     "name": "stdout",
     "output_type": "stream",
     "text": [
      "['a', 'b', 'c']\n",
      "['abc']\n"
     ]
    }
   ],
   "source": [
    "#sol2\n",
    "print(re.findall(\"[(ab)c+]\",\"abc\"))\n",
    "\n",
    "print(re.findall(\"[a(bc)]+.\",\"abc\"))"
   ]
  },
  {
   "cell_type": "code",
   "execution_count": 27,
   "id": "b01b7552",
   "metadata": {},
   "outputs": [
    {
     "name": "stdout",
     "output_type": "stream",
     "text": [
      "<re.Match object; span=(0, 7), match='iNeuron'>\n",
      "<re.Match object; span=(0, 7), match='iNeuron'>\n"
     ]
    }
   ],
   "source": [
    "#sol6\n",
    "find='iNeuron'\n",
    "Str1=\"iNeuron provided this Assignment16 and i am trying to solve this\"\n",
    "\n",
    "print(re.search(find,Str1,re.IGNORECASE))\n",
    "print(re.match(find,Str1,re.IGNORECASE))"
   ]
  },
  {
   "cell_type": "code",
   "execution_count": 30,
   "id": "fb85a77d",
   "metadata": {},
   "outputs": [
    {
     "name": "stdout",
     "output_type": "stream",
     "text": [
      "['n', 'e', 'u', 'r', 'o', 'n']\n",
      "['I', 'n', 'n']\n"
     ]
    }
   ],
   "source": [
    "#sol7\n",
    "temp= \"Ineuron\"\n",
    "square_brackets=re.findall(\"[a-z]\", temp)\n",
    "vertical_bar= re.findall(\"I|n\", temp)\n",
    "\n",
    "print(square_brackets)\n",
    "print(vertical_bar)"
   ]
  },
  {
   "cell_type": "code",
   "execution_count": null,
   "id": "38a78542",
   "metadata": {},
   "outputs": [],
   "source": []
  }
 ],
 "metadata": {
  "kernelspec": {
   "display_name": "Python 3 (ipykernel)",
   "language": "python",
   "name": "python3"
  },
  "language_info": {
   "codemirror_mode": {
    "name": "ipython",
    "version": 3
   },
   "file_extension": ".py",
   "mimetype": "text/x-python",
   "name": "python",
   "nbconvert_exporter": "python",
   "pygments_lexer": "ipython3",
   "version": "3.9.7"
  }
 },
 "nbformat": 4,
 "nbformat_minor": 5
}
