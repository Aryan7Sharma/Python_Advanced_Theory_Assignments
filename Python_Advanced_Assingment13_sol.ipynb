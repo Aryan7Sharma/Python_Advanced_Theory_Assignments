{
 "cells": [
  {
   "cell_type": "markdown",
   "id": "11a6ca3d",
   "metadata": {},
   "source": [
    "# Assingment13_sol"
   ]
  },
  {
   "cell_type": "markdown",
   "id": "3d83b6de",
   "metadata": {},
   "source": [
    "Q1. Can you create a programme or function that employs both positive and negative indexing? Is there any repercussion if you do so?\n",
    "\n",
    "### sol--> yes we can do that.\n",
    "\n",
    "Q2. What is the most effective way of starting with 1,000 elements in a Python list? Assume that all elements should be set to the same value.\n",
    "\n",
    "### sol--> element[0::] or [i for i in range(1000)] \n",
    "\n",
    "Q3. How do you slice a list to get any other part while missing the rest? (For example, suppose you want to make a new list with the elements first, third, fifth, seventh, and so on.)\n",
    "\n",
    "### sol--> we can specify from which value index we want to take value as a where to start the slicing, then we specify the end, and specify the step. List slicing returns a new list from the existing list.\n",
    "\n",
    "### elements=[1,2,3,4,5,6,7]\n",
    "### new_list=elements[0:7:2]\n",
    "### output--> [1,3,5,7]\n",
    "\n",
    "\n",
    "\n",
    "Q4. Explain the distinctions between indexing and slicing.\n",
    "\n",
    "### sol--> Indexing simply means referring to an element of an iterable by its position within the iterable.while slicing simply means getting a subset of elements from an iterable based on their indices.\n",
    "\n",
    "Q5. What happens if one of the slicing expression's indexes is out of range?\n",
    "\n",
    "### sol--> It simply returns an empty sequence.\n",
    "\n",
    "Q6. If you pass a list to a function, and if you want the function to be able to change the values of the list—so that the list is different after the function returns—what action should you avoid?\n",
    "\n",
    "### sol--> we dont assign that list in to another variable inside a function we do the operations on that given list.\n",
    "\n",
    "Q7. What is the concept of an ?\n",
    "\n",
    "### sol--> Whenever the number of sources is not equal to the number of destinations simply a matrix is balanced if all cells in the matrix are balanced and a cell of the matrix is balanced if the number of cells in that matrix that are adjacent to that cell is strictly greater than the value written in this cell. \n",
    "\n",
    "                        [ [ 1, 2, 3, 4 ],\n",
    "                          [ 3, 5, 2, 6 ],\n",
    "    unbalanced matrix     [ 5, 3, 6, 1 ],\n",
    "                          [ 9, 5, 6, 0 ] ]\n",
    "\n",
    "Q8. Why is it necessary to use either list comprehension or a loop to create arbitrarily large matrices?\n",
    "\n",
    "### sol--> Because we creating an array or matrix so we did not able to create it without help of the list comprehension, loop or perbuilt implemented array module like (numpy)."
   ]
  },
  {
   "cell_type": "code",
   "execution_count": 8,
   "id": "ed16acd9",
   "metadata": {},
   "outputs": [
    {
     "name": "stdout",
     "output_type": "stream",
     "text": [
      "[1, 2, 3, 4, 5]\n",
      "[6, 5, 4, 3, 2]\n"
     ]
    }
   ],
   "source": [
    "#sol1\n",
    "arr=[1,2,3,4,5,6]\n",
    "print(arr[0:-1:1])\n",
    "print(arr[-1:0:-1])"
   ]
  },
  {
   "cell_type": "code",
   "execution_count": 9,
   "id": "f858aa8b",
   "metadata": {},
   "outputs": [
    {
     "data": {
      "text/plain": [
       "[1, 3, 5, 7]"
      ]
     },
     "execution_count": 9,
     "metadata": {},
     "output_type": "execute_result"
    }
   ],
   "source": [
    "#sol3\n",
    "elements=[1,2,3,4,5,6,7]\n",
    "new_list=elements[0:7:2]\n",
    "new_list"
   ]
  },
  {
   "cell_type": "code",
   "execution_count": 11,
   "id": "d73f4204",
   "metadata": {},
   "outputs": [
    {
     "data": {
      "text/plain": [
       "[1, 3, 5, 7]"
      ]
     },
     "execution_count": 11,
     "metadata": {},
     "output_type": "execute_result"
    }
   ],
   "source": [
    "#sol5\n",
    "new_list=elements[0:70:2]\n",
    "new_list"
   ]
  },
  {
   "cell_type": "code",
   "execution_count": 16,
   "id": "d5945756",
   "metadata": {},
   "outputs": [],
   "source": [
    "#sol9\n",
    "l=[[0]*5 for i in range(5)]"
   ]
  },
  {
   "cell_type": "code",
   "execution_count": 17,
   "id": "7c174a82",
   "metadata": {},
   "outputs": [
    {
     "data": {
      "text/plain": [
       "[[0, 0, 0, 0, 0],\n",
       " [0, 0, 0, 0, 0],\n",
       " [0, 0, 0, 0, 0],\n",
       " [0, 0, 0, 0, 0],\n",
       " [0, 0, 0, 0, 0]]"
      ]
     },
     "execution_count": 17,
     "metadata": {},
     "output_type": "execute_result"
    }
   ],
   "source": [
    "l"
   ]
  },
  {
   "cell_type": "code",
   "execution_count": null,
   "id": "4607db06",
   "metadata": {},
   "outputs": [],
   "source": []
  }
 ],
 "metadata": {
  "kernelspec": {
   "display_name": "Python 3 (ipykernel)",
   "language": "python",
   "name": "python3"
  },
  "language_info": {
   "codemirror_mode": {
    "name": "ipython",
    "version": 3
   },
   "file_extension": ".py",
   "mimetype": "text/x-python",
   "name": "python",
   "nbconvert_exporter": "python",
   "pygments_lexer": "ipython3",
   "version": "3.9.7"
  }
 },
 "nbformat": 4,
 "nbformat_minor": 5
}
