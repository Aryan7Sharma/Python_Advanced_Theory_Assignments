{
 "cells": [
  {
   "cell_type": "markdown",
   "id": "3b14147c",
   "metadata": {},
   "source": [
    "# Assingment11_sol"
   ]
  },
  {
   "cell_type": "markdown",
   "id": "05f8a0b0",
   "metadata": {},
   "source": [
    "Q1. What is the concept of a metaclass?\n",
    "\n",
    "### sol--> A metaclass in Python is a class of a class that defines how a class behaves. A class is itself an instance of a metaclass.\n",
    "\n",
    "Q2. What is the best way to declare a class's metaclass?\n",
    "\n",
    "\n",
    "Q3. How do class decorators overlap with metaclasses for handling classes?\n",
    "\n",
    "### sol--> class decorators described in the preceding chapter sometimes overlap with metaclasses in terms of functionality. Although they are typically used for managing or augmenting instances, class decorators can also augment classes, independent of any created instances.\n",
    "\n",
    "Q4. How do class decorators overlap with metaclasses for handling instances?\n",
    "\n",
    "### sol--> Because both are automatically triggered at the end of the class statement we can use both class decorators and metaclass to manage class instance by inserting a wrapper object to catch instance creation calls."
   ]
  },
  {
   "cell_type": "code",
   "execution_count": 5,
   "id": "f4342680",
   "metadata": {},
   "outputs": [],
   "source": [
    "#sol2\n",
    "class MyMeta(type):\n",
    "    pass\n",
    "\n",
    "class MyClass(metaclass=MyMeta):\n",
    "    pass\n",
    "\n",
    "class MySubclass(MyClass):\n",
    "    pass"
   ]
  },
  {
   "cell_type": "code",
   "execution_count": 7,
   "id": "68a61850",
   "metadata": {},
   "outputs": [
    {
     "name": "stdout",
     "output_type": "stream",
     "text": [
      "<class 'type'>\n",
      "<class '__main__.MyMeta'>\n",
      "<class '__main__.MyMeta'>\n"
     ]
    }
   ],
   "source": [
    "print(type(MyMeta))\n",
    "print(type(MyClass))\n",
    "print(type(MySubclass))"
   ]
  },
  {
   "cell_type": "code",
   "execution_count": null,
   "id": "710ee9ca",
   "metadata": {},
   "outputs": [],
   "source": []
  }
 ],
 "metadata": {
  "kernelspec": {
   "display_name": "Python 3 (ipykernel)",
   "language": "python",
   "name": "python3"
  },
  "language_info": {
   "codemirror_mode": {
    "name": "ipython",
    "version": 3
   },
   "file_extension": ".py",
   "mimetype": "text/x-python",
   "name": "python",
   "nbconvert_exporter": "python",
   "pygments_lexer": "ipython3",
   "version": "3.9.7"
  }
 },
 "nbformat": 4,
 "nbformat_minor": 5
}
