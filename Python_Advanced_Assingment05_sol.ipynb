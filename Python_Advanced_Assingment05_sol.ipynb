{
 "cells": [
  {
   "cell_type": "markdown",
   "id": "379a81b2",
   "metadata": {},
   "source": [
    "# Assingment05_sol"
   ]
  },
  {
   "cell_type": "markdown",
   "id": "ae85af20",
   "metadata": {},
   "source": [
    "Q1. What is the meaning of multiple inheritance?\n",
    "\n",
    "### sol--> The Multiple inheritance simply means that a subclass can inherit from two or more than two superclasses.\n",
    "\n",
    "Q2. What is the concept of delegation?\n",
    "\n",
    "### sol--> The delegation is an object-oriented design pattern that allows object composition to achieve the same code reuse as inheritance.\n",
    "\n",
    "Q3. What is the concept of composition?\n",
    "\n",
    "### sol--> Compositions is a programming technique used when establishing relationships between classes and objects.\n",
    "\n",
    "Q4. What are bound methods and how do we use them?\n",
    "\n",
    "### sol--> A bound method is the one which is dependent on the instance of the class as the first argument. It passes the instance as the first argument which is used to access the variables and functions.\n",
    "\n",
    "Q5. What is the purpose of pseudoprivate attributes?\n",
    "\n",
    "### sol-->This feature is mostly intended to avoid namespace collisions in instances, not to restrict access to names in general."
   ]
  },
  {
   "cell_type": "code",
   "execution_count": null,
   "id": "e5969c17",
   "metadata": {},
   "outputs": [],
   "source": []
  }
 ],
 "metadata": {
  "kernelspec": {
   "display_name": "Python 3 (ipykernel)",
   "language": "python",
   "name": "python3"
  },
  "language_info": {
   "codemirror_mode": {
    "name": "ipython",
    "version": 3
   },
   "file_extension": ".py",
   "mimetype": "text/x-python",
   "name": "python",
   "nbconvert_exporter": "python",
   "pygments_lexer": "ipython3",
   "version": "3.9.7"
  }
 },
 "nbformat": 4,
 "nbformat_minor": 5
}
