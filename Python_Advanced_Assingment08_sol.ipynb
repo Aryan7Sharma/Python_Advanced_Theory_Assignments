{
 "cells": [
  {
   "cell_type": "markdown",
   "id": "8bc8e895",
   "metadata": {},
   "source": [
    "# Assingment08_sol"
   ]
  },
  {
   "cell_type": "markdown",
   "id": "0433cae3",
   "metadata": {},
   "source": [
    "Q1. What are the two latest user-defined exception constraints in Python 3.X?\n",
    "\n",
    "### sol--> raise,assert\n",
    "\n",
    "Q2. How are class-based exceptions that have been raised matched to handlers?\n",
    "\n",
    "### sol--> Class-based exceptions can participate in inheritance hierarchies to obtain and customize common behavior—inherited display methods, for example, can provide a common look and feel for error messages.\n",
    "\n",
    "Q3. Describe method for attaching context information to exception artefacts.\n",
    "\n",
    "### sol--> __context__\n",
    "\n",
    "Q4. Describe two methods for specifying the text of an exception object's error message.\n",
    "\n",
    "### sol--> with raise exception\n",
    "\n",
    "Q5. Why do you no longer use string-based exceptions?\n",
    "\n",
    "### sol--> User-defined Python exceptions can be either strings or Python classes. Since classes have many nice properties when used as exceptions."
   ]
  },
  {
   "cell_type": "code",
   "execution_count": null,
   "id": "bdf83166",
   "metadata": {},
   "outputs": [],
   "source": []
  }
 ],
 "metadata": {
  "kernelspec": {
   "display_name": "Python 3 (ipykernel)",
   "language": "python",
   "name": "python3"
  },
  "language_info": {
   "codemirror_mode": {
    "name": "ipython",
    "version": 3
   },
   "file_extension": ".py",
   "mimetype": "text/x-python",
   "name": "python",
   "nbconvert_exporter": "python",
   "pygments_lexer": "ipython3",
   "version": "3.9.7"
  }
 },
 "nbformat": 4,
 "nbformat_minor": 5
}
